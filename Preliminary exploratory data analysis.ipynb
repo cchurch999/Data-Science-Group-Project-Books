{
 "cells": [
  {
   "cell_type": "markdown",
   "id": "9801f23e",
   "metadata": {},
   "source": [
    "## DSCI 100 007 Group 37\n",
    "\n",
    "- #####  Preliminary exploratory data analysis"
   ]
  },
  {
   "cell_type": "code",
   "execution_count": 88,
   "id": "c09559b8-6b2a-4f5b-853e-19fbc9a9e8e2",
   "metadata": {},
   "outputs": [
    {
     "name": "stderr",
     "output_type": "stream",
     "text": [
      "Updating HTML index of packages in '.Library'\n",
      "\n",
      "Making 'packages.html' ...\n",
      " done\n",
      "\n"
     ]
    }
   ],
   "source": [
    "install.packages(\"psych\")"
   ]
  },
  {
   "cell_type": "code",
   "execution_count": 89,
   "id": "d08f5a72-c3e7-4b59-8df3-8f8c15a45230",
   "metadata": {},
   "outputs": [],
   "source": [
    "library(tidyverse)\n",
    "library(ggplot2)\n",
    "library(psych)\n",
    "library(tidymodels)\n",
    "options(repr.matrix.max.rows = 6)\n",
    "library(repr)"
   ]
  },
  {
   "cell_type": "markdown",
   "id": "9e6eebb1",
   "metadata": {},
   "source": [
    "##### Step 1 : read data from url"
   ]
  },
  {
   "cell_type": "code",
   "execution_count": 90,
   "id": "266836e1",
   "metadata": {},
   "outputs": [
    {
     "name": "stderr",
     "output_type": "stream",
     "text": [
      "\u001b[1m\u001b[22mNew names:\n",
      "\u001b[36m•\u001b[39m `1.0` -> `1.0...2`\n",
      "\u001b[36m•\u001b[39m `1.0` -> `1.0...3`\n",
      "\u001b[36m•\u001b[39m `1.0` -> `1.0...6`\n",
      "\u001b[36m•\u001b[39m `0.0` -> `0.0...9`\n",
      "\u001b[36m•\u001b[39m `0.0` -> `0.0...12`\n",
      "\u001b[1mRows: \u001b[22m\u001b[34m302\u001b[39m \u001b[1mColumns: \u001b[22m\u001b[34m14\u001b[39m\n",
      "\u001b[36m──\u001b[39m \u001b[1mColumn specification\u001b[22m \u001b[36m────────────────────────────────────────────────────────\u001b[39m\n",
      "\u001b[1mDelimiter:\u001b[22m \",\"\n",
      "\u001b[31mchr\u001b[39m  (2): 0.0...12, 6.0\n",
      "\u001b[32mdbl\u001b[39m (12): 63.0, 1.0...2, 1.0...3, 145.0, 233.0, 1.0...6, 2.0, 150.0, 0.0...9...\n",
      "\n",
      "\u001b[36mℹ\u001b[39m Use `spec()` to retrieve the full column specification for this data.\n",
      "\u001b[36mℹ\u001b[39m Specify the column types or set `show_col_types = FALSE` to quiet this message.\n"
     ]
    },
    {
     "data": {
      "text/html": [
       "<table class=\"dataframe\">\n",
       "<caption>A spec_tbl_df: 302 × 14</caption>\n",
       "<thead>\n",
       "\t<tr><th scope=col>63.0</th><th scope=col>1.0...2</th><th scope=col>1.0...3</th><th scope=col>145.0</th><th scope=col>233.0</th><th scope=col>1.0...6</th><th scope=col>2.0</th><th scope=col>150.0</th><th scope=col>0.0...9</th><th scope=col>2.3</th><th scope=col>3.0</th><th scope=col>0.0...12</th><th scope=col>6.0</th><th scope=col>0</th></tr>\n",
       "\t<tr><th scope=col>&lt;dbl&gt;</th><th scope=col>&lt;dbl&gt;</th><th scope=col>&lt;dbl&gt;</th><th scope=col>&lt;dbl&gt;</th><th scope=col>&lt;dbl&gt;</th><th scope=col>&lt;dbl&gt;</th><th scope=col>&lt;dbl&gt;</th><th scope=col>&lt;dbl&gt;</th><th scope=col>&lt;dbl&gt;</th><th scope=col>&lt;dbl&gt;</th><th scope=col>&lt;dbl&gt;</th><th scope=col>&lt;chr&gt;</th><th scope=col>&lt;chr&gt;</th><th scope=col>&lt;dbl&gt;</th></tr>\n",
       "</thead>\n",
       "<tbody>\n",
       "\t<tr><td>67</td><td>1</td><td>4</td><td>160</td><td>286</td><td>0</td><td>2</td><td>108</td><td>1</td><td>1.5</td><td>2</td><td>3.0</td><td>3.0</td><td>2</td></tr>\n",
       "\t<tr><td>67</td><td>1</td><td>4</td><td>120</td><td>229</td><td>0</td><td>2</td><td>129</td><td>1</td><td>2.6</td><td>2</td><td>2.0</td><td>7.0</td><td>1</td></tr>\n",
       "\t<tr><td>37</td><td>1</td><td>3</td><td>130</td><td>250</td><td>0</td><td>0</td><td>187</td><td>0</td><td>3.5</td><td>3</td><td>0.0</td><td>3.0</td><td>0</td></tr>\n",
       "\t<tr><td>⋮</td><td>⋮</td><td>⋮</td><td>⋮</td><td>⋮</td><td>⋮</td><td>⋮</td><td>⋮</td><td>⋮</td><td>⋮</td><td>⋮</td><td>⋮</td><td>⋮</td><td>⋮</td></tr>\n",
       "\t<tr><td>57</td><td>1</td><td>4</td><td>130</td><td>131</td><td>0</td><td>0</td><td>115</td><td>1</td><td>1.2</td><td>2</td><td>1.0</td><td>7.0</td><td>3</td></tr>\n",
       "\t<tr><td>57</td><td>0</td><td>2</td><td>130</td><td>236</td><td>0</td><td>2</td><td>174</td><td>0</td><td>0.0</td><td>2</td><td>1.0</td><td>3.0</td><td>1</td></tr>\n",
       "\t<tr><td>38</td><td>1</td><td>3</td><td>138</td><td>175</td><td>0</td><td>0</td><td>173</td><td>0</td><td>0.0</td><td>1</td><td>?  </td><td>3.0</td><td>0</td></tr>\n",
       "</tbody>\n",
       "</table>\n"
      ],
      "text/latex": [
       "A spec\\_tbl\\_df: 302 × 14\n",
       "\\begin{tabular}{llllllllllllll}\n",
       " 63.0 & 1.0...2 & 1.0...3 & 145.0 & 233.0 & 1.0...6 & 2.0 & 150.0 & 0.0...9 & 2.3 & 3.0 & 0.0...12 & 6.0 & 0\\\\\n",
       " <dbl> & <dbl> & <dbl> & <dbl> & <dbl> & <dbl> & <dbl> & <dbl> & <dbl> & <dbl> & <dbl> & <chr> & <chr> & <dbl>\\\\\n",
       "\\hline\n",
       "\t 67 & 1 & 4 & 160 & 286 & 0 & 2 & 108 & 1 & 1.5 & 2 & 3.0 & 3.0 & 2\\\\\n",
       "\t 67 & 1 & 4 & 120 & 229 & 0 & 2 & 129 & 1 & 2.6 & 2 & 2.0 & 7.0 & 1\\\\\n",
       "\t 37 & 1 & 3 & 130 & 250 & 0 & 0 & 187 & 0 & 3.5 & 3 & 0.0 & 3.0 & 0\\\\\n",
       "\t ⋮ & ⋮ & ⋮ & ⋮ & ⋮ & ⋮ & ⋮ & ⋮ & ⋮ & ⋮ & ⋮ & ⋮ & ⋮ & ⋮\\\\\n",
       "\t 57 & 1 & 4 & 130 & 131 & 0 & 0 & 115 & 1 & 1.2 & 2 & 1.0 & 7.0 & 3\\\\\n",
       "\t 57 & 0 & 2 & 130 & 236 & 0 & 2 & 174 & 0 & 0.0 & 2 & 1.0 & 3.0 & 1\\\\\n",
       "\t 38 & 1 & 3 & 138 & 175 & 0 & 0 & 173 & 0 & 0.0 & 1 & ?   & 3.0 & 0\\\\\n",
       "\\end{tabular}\n"
      ],
      "text/markdown": [
       "\n",
       "A spec_tbl_df: 302 × 14\n",
       "\n",
       "| 63.0 &lt;dbl&gt; | 1.0...2 &lt;dbl&gt; | 1.0...3 &lt;dbl&gt; | 145.0 &lt;dbl&gt; | 233.0 &lt;dbl&gt; | 1.0...6 &lt;dbl&gt; | 2.0 &lt;dbl&gt; | 150.0 &lt;dbl&gt; | 0.0...9 &lt;dbl&gt; | 2.3 &lt;dbl&gt; | 3.0 &lt;dbl&gt; | 0.0...12 &lt;chr&gt; | 6.0 &lt;chr&gt; | 0 &lt;dbl&gt; |\n",
       "|---|---|---|---|---|---|---|---|---|---|---|---|---|---|\n",
       "| 67 | 1 | 4 | 160 | 286 | 0 | 2 | 108 | 1 | 1.5 | 2 | 3.0 | 3.0 | 2 |\n",
       "| 67 | 1 | 4 | 120 | 229 | 0 | 2 | 129 | 1 | 2.6 | 2 | 2.0 | 7.0 | 1 |\n",
       "| 37 | 1 | 3 | 130 | 250 | 0 | 0 | 187 | 0 | 3.5 | 3 | 0.0 | 3.0 | 0 |\n",
       "| ⋮ | ⋮ | ⋮ | ⋮ | ⋮ | ⋮ | ⋮ | ⋮ | ⋮ | ⋮ | ⋮ | ⋮ | ⋮ | ⋮ |\n",
       "| 57 | 1 | 4 | 130 | 131 | 0 | 0 | 115 | 1 | 1.2 | 2 | 1.0 | 7.0 | 3 |\n",
       "| 57 | 0 | 2 | 130 | 236 | 0 | 2 | 174 | 0 | 0.0 | 2 | 1.0 | 3.0 | 1 |\n",
       "| 38 | 1 | 3 | 138 | 175 | 0 | 0 | 173 | 0 | 0.0 | 1 | ?   | 3.0 | 0 |\n",
       "\n"
      ],
      "text/plain": [
       "    63.0 1.0...2 1.0...3 145.0 233.0 1.0...6 2.0 150.0 0.0...9 2.3 3.0 0.0...12\n",
       "1   67   1       4       160   286   0       2   108   1       1.5 2   3.0     \n",
       "2   67   1       4       120   229   0       2   129   1       2.6 2   2.0     \n",
       "3   37   1       3       130   250   0       0   187   0       3.5 3   0.0     \n",
       "⋮   ⋮    ⋮       ⋮       ⋮     ⋮     ⋮       ⋮   ⋮     ⋮       ⋮   ⋮   ⋮       \n",
       "300 57   1       4       130   131   0       0   115   1       1.2 2   1.0     \n",
       "301 57   0       2       130   236   0       2   174   0       0.0 2   1.0     \n",
       "302 38   1       3       138   175   0       0   173   0       0.0 1   ?       \n",
       "    6.0 0\n",
       "1   3.0 2\n",
       "2   7.0 1\n",
       "3   3.0 0\n",
       "⋮   ⋮   ⋮\n",
       "300 7.0 3\n",
       "301 3.0 1\n",
       "302 3.0 0"
      ]
     },
     "metadata": {},
     "output_type": "display_data"
    }
   ],
   "source": [
    "path <- \"https://archive.ics.uci.edu/ml/machine-learning-databases/heart-disease/processed.cleveland.data\"\n",
    "heart_disease_data <-read_csv(path)\n",
    "heart_disease_data"
   ]
  },
  {
   "cell_type": "markdown",
   "id": "cc29ce64",
   "metadata": {},
   "source": [
    "##### Step 2 : Naming and filtering data"
   ]
  },
  {
   "cell_type": "code",
   "execution_count": 91,
   "id": "c1444664",
   "metadata": {},
   "outputs": [
    {
     "name": "stderr",
     "output_type": "stream",
     "text": [
      "\u001b[1mRows: \u001b[22m\u001b[34m303\u001b[39m \u001b[1mColumns: \u001b[22m\u001b[34m14\u001b[39m\n",
      "\u001b[36m──\u001b[39m \u001b[1mColumn specification\u001b[22m \u001b[36m────────────────────────────────────────────────────────\u001b[39m\n",
      "\u001b[1mDelimiter:\u001b[22m \",\"\n",
      "\u001b[31mchr\u001b[39m  (2): X12, X13\n",
      "\u001b[32mdbl\u001b[39m (12): X1, X2, X3, X4, X5, X6, X7, X8, X9, X10, X11, X14\n",
      "\n",
      "\u001b[36mℹ\u001b[39m Use `spec()` to retrieve the full column specification for this data.\n",
      "\u001b[36mℹ\u001b[39m Specify the column types or set `show_col_types = FALSE` to quiet this message.\n"
     ]
    },
    {
     "data": {
      "text/html": [
       "<table class=\"dataframe\">\n",
       "<caption>A spec_tbl_df: 303 × 14</caption>\n",
       "<thead>\n",
       "\t<tr><th scope=col>age</th><th scope=col>sex</th><th scope=col>cp</th><th scope=col>trestbpd</th><th scope=col>chol</th><th scope=col>fbs</th><th scope=col>restecg</th><th scope=col>thalach</th><th scope=col>exang</th><th scope=col>oldpeak</th><th scope=col>slope</th><th scope=col>ca</th><th scope=col>thal</th><th scope=col>num</th></tr>\n",
       "\t<tr><th scope=col>&lt;dbl&gt;</th><th scope=col>&lt;dbl&gt;</th><th scope=col>&lt;dbl&gt;</th><th scope=col>&lt;dbl&gt;</th><th scope=col>&lt;dbl&gt;</th><th scope=col>&lt;dbl&gt;</th><th scope=col>&lt;dbl&gt;</th><th scope=col>&lt;dbl&gt;</th><th scope=col>&lt;dbl&gt;</th><th scope=col>&lt;dbl&gt;</th><th scope=col>&lt;dbl&gt;</th><th scope=col>&lt;chr&gt;</th><th scope=col>&lt;chr&gt;</th><th scope=col>&lt;dbl&gt;</th></tr>\n",
       "</thead>\n",
       "<tbody>\n",
       "\t<tr><td>63</td><td>1</td><td>1</td><td>145</td><td>233</td><td>1</td><td>2</td><td>150</td><td>0</td><td>2.3</td><td>3</td><td>0.0</td><td>6.0</td><td>0</td></tr>\n",
       "\t<tr><td>67</td><td>1</td><td>4</td><td>160</td><td>286</td><td>0</td><td>2</td><td>108</td><td>1</td><td>1.5</td><td>2</td><td>3.0</td><td>3.0</td><td>2</td></tr>\n",
       "\t<tr><td>67</td><td>1</td><td>4</td><td>120</td><td>229</td><td>0</td><td>2</td><td>129</td><td>1</td><td>2.6</td><td>2</td><td>2.0</td><td>7.0</td><td>1</td></tr>\n",
       "\t<tr><td>⋮</td><td>⋮</td><td>⋮</td><td>⋮</td><td>⋮</td><td>⋮</td><td>⋮</td><td>⋮</td><td>⋮</td><td>⋮</td><td>⋮</td><td>⋮</td><td>⋮</td><td>⋮</td></tr>\n",
       "\t<tr><td>57</td><td>1</td><td>4</td><td>130</td><td>131</td><td>0</td><td>0</td><td>115</td><td>1</td><td>1.2</td><td>2</td><td>1.0</td><td>7.0</td><td>3</td></tr>\n",
       "\t<tr><td>57</td><td>0</td><td>2</td><td>130</td><td>236</td><td>0</td><td>2</td><td>174</td><td>0</td><td>0.0</td><td>2</td><td>1.0</td><td>3.0</td><td>1</td></tr>\n",
       "\t<tr><td>38</td><td>1</td><td>3</td><td>138</td><td>175</td><td>0</td><td>0</td><td>173</td><td>0</td><td>0.0</td><td>1</td><td>?  </td><td>3.0</td><td>0</td></tr>\n",
       "</tbody>\n",
       "</table>\n"
      ],
      "text/latex": [
       "A spec\\_tbl\\_df: 303 × 14\n",
       "\\begin{tabular}{llllllllllllll}\n",
       " age & sex & cp & trestbpd & chol & fbs & restecg & thalach & exang & oldpeak & slope & ca & thal & num\\\\\n",
       " <dbl> & <dbl> & <dbl> & <dbl> & <dbl> & <dbl> & <dbl> & <dbl> & <dbl> & <dbl> & <dbl> & <chr> & <chr> & <dbl>\\\\\n",
       "\\hline\n",
       "\t 63 & 1 & 1 & 145 & 233 & 1 & 2 & 150 & 0 & 2.3 & 3 & 0.0 & 6.0 & 0\\\\\n",
       "\t 67 & 1 & 4 & 160 & 286 & 0 & 2 & 108 & 1 & 1.5 & 2 & 3.0 & 3.0 & 2\\\\\n",
       "\t 67 & 1 & 4 & 120 & 229 & 0 & 2 & 129 & 1 & 2.6 & 2 & 2.0 & 7.0 & 1\\\\\n",
       "\t ⋮ & ⋮ & ⋮ & ⋮ & ⋮ & ⋮ & ⋮ & ⋮ & ⋮ & ⋮ & ⋮ & ⋮ & ⋮ & ⋮\\\\\n",
       "\t 57 & 1 & 4 & 130 & 131 & 0 & 0 & 115 & 1 & 1.2 & 2 & 1.0 & 7.0 & 3\\\\\n",
       "\t 57 & 0 & 2 & 130 & 236 & 0 & 2 & 174 & 0 & 0.0 & 2 & 1.0 & 3.0 & 1\\\\\n",
       "\t 38 & 1 & 3 & 138 & 175 & 0 & 0 & 173 & 0 & 0.0 & 1 & ?   & 3.0 & 0\\\\\n",
       "\\end{tabular}\n"
      ],
      "text/markdown": [
       "\n",
       "A spec_tbl_df: 303 × 14\n",
       "\n",
       "| age &lt;dbl&gt; | sex &lt;dbl&gt; | cp &lt;dbl&gt; | trestbpd &lt;dbl&gt; | chol &lt;dbl&gt; | fbs &lt;dbl&gt; | restecg &lt;dbl&gt; | thalach &lt;dbl&gt; | exang &lt;dbl&gt; | oldpeak &lt;dbl&gt; | slope &lt;dbl&gt; | ca &lt;chr&gt; | thal &lt;chr&gt; | num &lt;dbl&gt; |\n",
       "|---|---|---|---|---|---|---|---|---|---|---|---|---|---|\n",
       "| 63 | 1 | 1 | 145 | 233 | 1 | 2 | 150 | 0 | 2.3 | 3 | 0.0 | 6.0 | 0 |\n",
       "| 67 | 1 | 4 | 160 | 286 | 0 | 2 | 108 | 1 | 1.5 | 2 | 3.0 | 3.0 | 2 |\n",
       "| 67 | 1 | 4 | 120 | 229 | 0 | 2 | 129 | 1 | 2.6 | 2 | 2.0 | 7.0 | 1 |\n",
       "| ⋮ | ⋮ | ⋮ | ⋮ | ⋮ | ⋮ | ⋮ | ⋮ | ⋮ | ⋮ | ⋮ | ⋮ | ⋮ | ⋮ |\n",
       "| 57 | 1 | 4 | 130 | 131 | 0 | 0 | 115 | 1 | 1.2 | 2 | 1.0 | 7.0 | 3 |\n",
       "| 57 | 0 | 2 | 130 | 236 | 0 | 2 | 174 | 0 | 0.0 | 2 | 1.0 | 3.0 | 1 |\n",
       "| 38 | 1 | 3 | 138 | 175 | 0 | 0 | 173 | 0 | 0.0 | 1 | ?   | 3.0 | 0 |\n",
       "\n"
      ],
      "text/plain": [
       "    age sex cp trestbpd chol fbs restecg thalach exang oldpeak slope ca  thal\n",
       "1   63  1   1  145      233  1   2       150     0     2.3     3     0.0 6.0 \n",
       "2   67  1   4  160      286  0   2       108     1     1.5     2     3.0 3.0 \n",
       "3   67  1   4  120      229  0   2       129     1     2.6     2     2.0 7.0 \n",
       "⋮   ⋮   ⋮   ⋮  ⋮        ⋮    ⋮   ⋮       ⋮       ⋮     ⋮       ⋮     ⋮   ⋮   \n",
       "301 57  1   4  130      131  0   0       115     1     1.2     2     1.0 7.0 \n",
       "302 57  0   2  130      236  0   2       174     0     0.0     2     1.0 3.0 \n",
       "303 38  1   3  138      175  0   0       173     0     0.0     1     ?   3.0 \n",
       "    num\n",
       "1   0  \n",
       "2   2  \n",
       "3   1  \n",
       "⋮   ⋮  \n",
       "301 3  \n",
       "302 1  \n",
       "303 0  "
      ]
     },
     "metadata": {},
     "output_type": "display_data"
    }
   ],
   "source": [
    "# Give each column a specific name from given dataset\n",
    "heart_disease_data <- read_csv(path, col_names = FALSE) |> \n",
    "  set_names(c(\"age\", \"sex\", \"cp\", \"trestbpd\", \"chol\", \"fbs\", \"restecg\", \"thalach\",\n",
    "              \"exang\", \"oldpeak\", \"slope\", \"ca\", \"thal\", \"num\"))\n",
    "heart_disease_data"
   ]
  },
  {
   "cell_type": "code",
   "execution_count": 92,
   "id": "f0bd622c",
   "metadata": {},
   "outputs": [
    {
     "data": {
      "text/html": [
       "<table class=\"dataframe\">\n",
       "<caption>A tibble: 303 × 15</caption>\n",
       "<thead>\n",
       "\t<tr><th scope=col>patient_number</th><th scope=col>age</th><th scope=col>sex</th><th scope=col>cp</th><th scope=col>trestbpd</th><th scope=col>chol</th><th scope=col>fbs</th><th scope=col>restecg</th><th scope=col>thalach</th><th scope=col>exang</th><th scope=col>oldpeak</th><th scope=col>slope</th><th scope=col>ca</th><th scope=col>thal</th><th scope=col>num</th></tr>\n",
       "\t<tr><th scope=col>&lt;int&gt;</th><th scope=col>&lt;dbl&gt;</th><th scope=col>&lt;dbl&gt;</th><th scope=col>&lt;dbl&gt;</th><th scope=col>&lt;dbl&gt;</th><th scope=col>&lt;dbl&gt;</th><th scope=col>&lt;dbl&gt;</th><th scope=col>&lt;dbl&gt;</th><th scope=col>&lt;dbl&gt;</th><th scope=col>&lt;dbl&gt;</th><th scope=col>&lt;dbl&gt;</th><th scope=col>&lt;dbl&gt;</th><th scope=col>&lt;chr&gt;</th><th scope=col>&lt;chr&gt;</th><th scope=col>&lt;dbl&gt;</th></tr>\n",
       "</thead>\n",
       "<tbody>\n",
       "\t<tr><td>1</td><td>63</td><td>1</td><td>1</td><td>145</td><td>233</td><td>1</td><td>2</td><td>150</td><td>0</td><td>2.3</td><td>3</td><td>0.0</td><td>6.0</td><td>0</td></tr>\n",
       "\t<tr><td>2</td><td>67</td><td>1</td><td>4</td><td>160</td><td>286</td><td>0</td><td>2</td><td>108</td><td>1</td><td>1.5</td><td>2</td><td>3.0</td><td>3.0</td><td>2</td></tr>\n",
       "\t<tr><td>3</td><td>67</td><td>1</td><td>4</td><td>120</td><td>229</td><td>0</td><td>2</td><td>129</td><td>1</td><td>2.6</td><td>2</td><td>2.0</td><td>7.0</td><td>1</td></tr>\n",
       "\t<tr><td>⋮</td><td>⋮</td><td>⋮</td><td>⋮</td><td>⋮</td><td>⋮</td><td>⋮</td><td>⋮</td><td>⋮</td><td>⋮</td><td>⋮</td><td>⋮</td><td>⋮</td><td>⋮</td><td>⋮</td></tr>\n",
       "\t<tr><td>301</td><td>57</td><td>1</td><td>4</td><td>130</td><td>131</td><td>0</td><td>0</td><td>115</td><td>1</td><td>1.2</td><td>2</td><td>1.0</td><td>7.0</td><td>3</td></tr>\n",
       "\t<tr><td>302</td><td>57</td><td>0</td><td>2</td><td>130</td><td>236</td><td>0</td><td>2</td><td>174</td><td>0</td><td>0.0</td><td>2</td><td>1.0</td><td>3.0</td><td>1</td></tr>\n",
       "\t<tr><td>303</td><td>38</td><td>1</td><td>3</td><td>138</td><td>175</td><td>0</td><td>0</td><td>173</td><td>0</td><td>0.0</td><td>1</td><td>?  </td><td>3.0</td><td>0</td></tr>\n",
       "</tbody>\n",
       "</table>\n"
      ],
      "text/latex": [
       "A tibble: 303 × 15\n",
       "\\begin{tabular}{lllllllllllllll}\n",
       " patient\\_number & age & sex & cp & trestbpd & chol & fbs & restecg & thalach & exang & oldpeak & slope & ca & thal & num\\\\\n",
       " <int> & <dbl> & <dbl> & <dbl> & <dbl> & <dbl> & <dbl> & <dbl> & <dbl> & <dbl> & <dbl> & <dbl> & <chr> & <chr> & <dbl>\\\\\n",
       "\\hline\n",
       "\t 1 & 63 & 1 & 1 & 145 & 233 & 1 & 2 & 150 & 0 & 2.3 & 3 & 0.0 & 6.0 & 0\\\\\n",
       "\t 2 & 67 & 1 & 4 & 160 & 286 & 0 & 2 & 108 & 1 & 1.5 & 2 & 3.0 & 3.0 & 2\\\\\n",
       "\t 3 & 67 & 1 & 4 & 120 & 229 & 0 & 2 & 129 & 1 & 2.6 & 2 & 2.0 & 7.0 & 1\\\\\n",
       "\t ⋮ & ⋮ & ⋮ & ⋮ & ⋮ & ⋮ & ⋮ & ⋮ & ⋮ & ⋮ & ⋮ & ⋮ & ⋮ & ⋮ & ⋮\\\\\n",
       "\t 301 & 57 & 1 & 4 & 130 & 131 & 0 & 0 & 115 & 1 & 1.2 & 2 & 1.0 & 7.0 & 3\\\\\n",
       "\t 302 & 57 & 0 & 2 & 130 & 236 & 0 & 2 & 174 & 0 & 0.0 & 2 & 1.0 & 3.0 & 1\\\\\n",
       "\t 303 & 38 & 1 & 3 & 138 & 175 & 0 & 0 & 173 & 0 & 0.0 & 1 & ?   & 3.0 & 0\\\\\n",
       "\\end{tabular}\n"
      ],
      "text/markdown": [
       "\n",
       "A tibble: 303 × 15\n",
       "\n",
       "| patient_number &lt;int&gt; | age &lt;dbl&gt; | sex &lt;dbl&gt; | cp &lt;dbl&gt; | trestbpd &lt;dbl&gt; | chol &lt;dbl&gt; | fbs &lt;dbl&gt; | restecg &lt;dbl&gt; | thalach &lt;dbl&gt; | exang &lt;dbl&gt; | oldpeak &lt;dbl&gt; | slope &lt;dbl&gt; | ca &lt;chr&gt; | thal &lt;chr&gt; | num &lt;dbl&gt; |\n",
       "|---|---|---|---|---|---|---|---|---|---|---|---|---|---|---|\n",
       "| 1 | 63 | 1 | 1 | 145 | 233 | 1 | 2 | 150 | 0 | 2.3 | 3 | 0.0 | 6.0 | 0 |\n",
       "| 2 | 67 | 1 | 4 | 160 | 286 | 0 | 2 | 108 | 1 | 1.5 | 2 | 3.0 | 3.0 | 2 |\n",
       "| 3 | 67 | 1 | 4 | 120 | 229 | 0 | 2 | 129 | 1 | 2.6 | 2 | 2.0 | 7.0 | 1 |\n",
       "| ⋮ | ⋮ | ⋮ | ⋮ | ⋮ | ⋮ | ⋮ | ⋮ | ⋮ | ⋮ | ⋮ | ⋮ | ⋮ | ⋮ | ⋮ |\n",
       "| 301 | 57 | 1 | 4 | 130 | 131 | 0 | 0 | 115 | 1 | 1.2 | 2 | 1.0 | 7.0 | 3 |\n",
       "| 302 | 57 | 0 | 2 | 130 | 236 | 0 | 2 | 174 | 0 | 0.0 | 2 | 1.0 | 3.0 | 1 |\n",
       "| 303 | 38 | 1 | 3 | 138 | 175 | 0 | 0 | 173 | 0 | 0.0 | 1 | ?   | 3.0 | 0 |\n",
       "\n"
      ],
      "text/plain": [
       "    patient_number age sex cp trestbpd chol fbs restecg thalach exang oldpeak\n",
       "1   1              63  1   1  145      233  1   2       150     0     2.3    \n",
       "2   2              67  1   4  160      286  0   2       108     1     1.5    \n",
       "3   3              67  1   4  120      229  0   2       129     1     2.6    \n",
       "⋮   ⋮              ⋮   ⋮   ⋮  ⋮        ⋮    ⋮   ⋮       ⋮       ⋮     ⋮      \n",
       "301 301            57  1   4  130      131  0   0       115     1     1.2    \n",
       "302 302            57  0   2  130      236  0   2       174     0     0.0    \n",
       "303 303            38  1   3  138      175  0   0       173     0     0.0    \n",
       "    slope ca  thal num\n",
       "1   3     0.0 6.0  0  \n",
       "2   2     3.0 3.0  2  \n",
       "3   2     2.0 7.0  1  \n",
       "⋮   ⋮     ⋮   ⋮    ⋮  \n",
       "301 2     1.0 7.0  3  \n",
       "302 2     1.0 3.0  1  \n",
       "303 1     ?   3.0  0  "
      ]
     },
     "metadata": {},
     "output_type": "display_data"
    }
   ],
   "source": [
    "# Now let's add a new column that includes the number of patients.\n",
    "heart_disease_data <- heart_disease_data |>\n",
    "  mutate(patient_number = row_number()) |>\n",
    "  select(patient_number, everything())\n",
    "heart_disease_data"
   ]
  },
  {
   "cell_type": "code",
   "execution_count": 93,
   "id": "524ea9d1-463a-440e-8c16-8e3fa165f61c",
   "metadata": {},
   "outputs": [
    {
     "data": {
      "text/html": [
       "<table class=\"dataframe\">\n",
       "<caption>A tibble: 303 × 4</caption>\n",
       "<thead>\n",
       "\t<tr><th scope=col>patient_number</th><th scope=col>trestbpd</th><th scope=col>chol</th><th scope=col>num</th></tr>\n",
       "\t<tr><th scope=col>&lt;int&gt;</th><th scope=col>&lt;dbl&gt;</th><th scope=col>&lt;dbl&gt;</th><th scope=col>&lt;dbl&gt;</th></tr>\n",
       "</thead>\n",
       "<tbody>\n",
       "\t<tr><td>1</td><td>145</td><td>233</td><td>0</td></tr>\n",
       "\t<tr><td>2</td><td>160</td><td>286</td><td>2</td></tr>\n",
       "\t<tr><td>3</td><td>120</td><td>229</td><td>1</td></tr>\n",
       "\t<tr><td>⋮</td><td>⋮</td><td>⋮</td><td>⋮</td></tr>\n",
       "\t<tr><td>301</td><td>130</td><td>131</td><td>3</td></tr>\n",
       "\t<tr><td>302</td><td>130</td><td>236</td><td>1</td></tr>\n",
       "\t<tr><td>303</td><td>138</td><td>175</td><td>0</td></tr>\n",
       "</tbody>\n",
       "</table>\n"
      ],
      "text/latex": [
       "A tibble: 303 × 4\n",
       "\\begin{tabular}{llll}\n",
       " patient\\_number & trestbpd & chol & num\\\\\n",
       " <int> & <dbl> & <dbl> & <dbl>\\\\\n",
       "\\hline\n",
       "\t 1 & 145 & 233 & 0\\\\\n",
       "\t 2 & 160 & 286 & 2\\\\\n",
       "\t 3 & 120 & 229 & 1\\\\\n",
       "\t ⋮ & ⋮ & ⋮ & ⋮\\\\\n",
       "\t 301 & 130 & 131 & 3\\\\\n",
       "\t 302 & 130 & 236 & 1\\\\\n",
       "\t 303 & 138 & 175 & 0\\\\\n",
       "\\end{tabular}\n"
      ],
      "text/markdown": [
       "\n",
       "A tibble: 303 × 4\n",
       "\n",
       "| patient_number &lt;int&gt; | trestbpd &lt;dbl&gt; | chol &lt;dbl&gt; | num &lt;dbl&gt; |\n",
       "|---|---|---|---|\n",
       "| 1 | 145 | 233 | 0 |\n",
       "| 2 | 160 | 286 | 2 |\n",
       "| 3 | 120 | 229 | 1 |\n",
       "| ⋮ | ⋮ | ⋮ | ⋮ |\n",
       "| 301 | 130 | 131 | 3 |\n",
       "| 302 | 130 | 236 | 1 |\n",
       "| 303 | 138 | 175 | 0 |\n",
       "\n"
      ],
      "text/plain": [
       "    patient_number trestbpd chol num\n",
       "1   1              145      233  0  \n",
       "2   2              160      286  2  \n",
       "3   3              120      229  1  \n",
       "⋮   ⋮              ⋮        ⋮    ⋮  \n",
       "301 301            130      131  3  \n",
       "302 302            130      236  1  \n",
       "303 303            138      175  0  "
      ]
     },
     "metadata": {},
     "output_type": "display_data"
    }
   ],
   "source": [
    "# We will use the select function to keep only the variables trestbps (#5) the  and cholesterol (#6), \n",
    "# and num (#14) the predicted heart disease outcome.\n",
    "\n",
    "filtered_heart_disease_data <- heart_disease_data |>\n",
    "  select(1, 5, 6, 15)\n",
    "filtered_heart_disease_data"
   ]
  },
  {
   "cell_type": "code",
   "execution_count": 94,
   "id": "74623b90-a026-4cda-ab26-960dd2607387",
   "metadata": {},
   "outputs": [
    {
     "data": {
      "text/html": [
       "<table class=\"dataframe\">\n",
       "<caption>A tibble: 303 × 4</caption>\n",
       "<thead>\n",
       "\t<tr><th scope=col>patient_number</th><th scope=col>trestbpd</th><th scope=col>chol</th><th scope=col>num</th></tr>\n",
       "\t<tr><th scope=col>&lt;int&gt;</th><th scope=col>&lt;dbl&gt;</th><th scope=col>&lt;dbl&gt;</th><th scope=col>&lt;dbl&gt;</th></tr>\n",
       "</thead>\n",
       "<tbody>\n",
       "\t<tr><td>1</td><td>145</td><td>233</td><td>0</td></tr>\n",
       "\t<tr><td>2</td><td>160</td><td>286</td><td>1</td></tr>\n",
       "\t<tr><td>3</td><td>120</td><td>229</td><td>1</td></tr>\n",
       "\t<tr><td>⋮</td><td>⋮</td><td>⋮</td><td>⋮</td></tr>\n",
       "\t<tr><td>301</td><td>130</td><td>131</td><td>1</td></tr>\n",
       "\t<tr><td>302</td><td>130</td><td>236</td><td>1</td></tr>\n",
       "\t<tr><td>303</td><td>138</td><td>175</td><td>0</td></tr>\n",
       "</tbody>\n",
       "</table>\n"
      ],
      "text/latex": [
       "A tibble: 303 × 4\n",
       "\\begin{tabular}{llll}\n",
       " patient\\_number & trestbpd & chol & num\\\\\n",
       " <int> & <dbl> & <dbl> & <dbl>\\\\\n",
       "\\hline\n",
       "\t 1 & 145 & 233 & 0\\\\\n",
       "\t 2 & 160 & 286 & 1\\\\\n",
       "\t 3 & 120 & 229 & 1\\\\\n",
       "\t ⋮ & ⋮ & ⋮ & ⋮\\\\\n",
       "\t 301 & 130 & 131 & 1\\\\\n",
       "\t 302 & 130 & 236 & 1\\\\\n",
       "\t 303 & 138 & 175 & 0\\\\\n",
       "\\end{tabular}\n"
      ],
      "text/markdown": [
       "\n",
       "A tibble: 303 × 4\n",
       "\n",
       "| patient_number &lt;int&gt; | trestbpd &lt;dbl&gt; | chol &lt;dbl&gt; | num &lt;dbl&gt; |\n",
       "|---|---|---|---|\n",
       "| 1 | 145 | 233 | 0 |\n",
       "| 2 | 160 | 286 | 1 |\n",
       "| 3 | 120 | 229 | 1 |\n",
       "| ⋮ | ⋮ | ⋮ | ⋮ |\n",
       "| 301 | 130 | 131 | 1 |\n",
       "| 302 | 130 | 236 | 1 |\n",
       "| 303 | 138 | 175 | 0 |\n",
       "\n"
      ],
      "text/plain": [
       "    patient_number trestbpd chol num\n",
       "1   1              145      233  0  \n",
       "2   2              160      286  1  \n",
       "3   3              120      229  1  \n",
       "⋮   ⋮              ⋮        ⋮    ⋮  \n",
       "301 301            130      131  1  \n",
       "302 302            130      236  1  \n",
       "303 303            138      175  0  "
      ]
     },
     "metadata": {},
     "output_type": "display_data"
    }
   ],
   "source": [
    "changed_num <- filtered_heart_disease_data |>\n",
    "  mutate(num = ifelse(num >= 1, 1, 0))\n",
    "# remove all row with '?'\n",
    "changed_num_1 <- changed_num |>\n",
    "  filter_all(all_vars(. != \"?\"))\n",
    "changed_num_1"
   ]
  },
  {
   "cell_type": "code",
   "execution_count": 95,
   "id": "4339bbf8-4707-404d-b2d1-6c95d7fb0de1",
   "metadata": {},
   "outputs": [
    {
     "data": {
      "text/html": [
       "<table class=\"dataframe\">\n",
       "<caption>A tibble: 303 × 4</caption>\n",
       "<thead>\n",
       "\t<tr><th scope=col>patient_number</th><th scope=col>trestbpd</th><th scope=col>chol</th><th scope=col>num</th></tr>\n",
       "\t<tr><th scope=col>&lt;int&gt;</th><th scope=col>&lt;dbl&gt;</th><th scope=col>&lt;dbl&gt;</th><th scope=col>&lt;fct&gt;</th></tr>\n",
       "</thead>\n",
       "<tbody>\n",
       "\t<tr><td>1</td><td>145</td><td>233</td><td>0</td></tr>\n",
       "\t<tr><td>2</td><td>160</td><td>286</td><td>1</td></tr>\n",
       "\t<tr><td>3</td><td>120</td><td>229</td><td>1</td></tr>\n",
       "\t<tr><td>⋮</td><td>⋮</td><td>⋮</td><td>⋮</td></tr>\n",
       "\t<tr><td>301</td><td>130</td><td>131</td><td>1</td></tr>\n",
       "\t<tr><td>302</td><td>130</td><td>236</td><td>1</td></tr>\n",
       "\t<tr><td>303</td><td>138</td><td>175</td><td>0</td></tr>\n",
       "</tbody>\n",
       "</table>\n"
      ],
      "text/latex": [
       "A tibble: 303 × 4\n",
       "\\begin{tabular}{llll}\n",
       " patient\\_number & trestbpd & chol & num\\\\\n",
       " <int> & <dbl> & <dbl> & <fct>\\\\\n",
       "\\hline\n",
       "\t 1 & 145 & 233 & 0\\\\\n",
       "\t 2 & 160 & 286 & 1\\\\\n",
       "\t 3 & 120 & 229 & 1\\\\\n",
       "\t ⋮ & ⋮ & ⋮ & ⋮\\\\\n",
       "\t 301 & 130 & 131 & 1\\\\\n",
       "\t 302 & 130 & 236 & 1\\\\\n",
       "\t 303 & 138 & 175 & 0\\\\\n",
       "\\end{tabular}\n"
      ],
      "text/markdown": [
       "\n",
       "A tibble: 303 × 4\n",
       "\n",
       "| patient_number &lt;int&gt; | trestbpd &lt;dbl&gt; | chol &lt;dbl&gt; | num &lt;fct&gt; |\n",
       "|---|---|---|---|\n",
       "| 1 | 145 | 233 | 0 |\n",
       "| 2 | 160 | 286 | 1 |\n",
       "| 3 | 120 | 229 | 1 |\n",
       "| ⋮ | ⋮ | ⋮ | ⋮ |\n",
       "| 301 | 130 | 131 | 1 |\n",
       "| 302 | 130 | 236 | 1 |\n",
       "| 303 | 138 | 175 | 0 |\n",
       "\n"
      ],
      "text/plain": [
       "    patient_number trestbpd chol num\n",
       "1   1              145      233  0  \n",
       "2   2              160      286  1  \n",
       "3   3              120      229  1  \n",
       "⋮   ⋮              ⋮        ⋮    ⋮  \n",
       "301 301            130      131  1  \n",
       "302 302            130      236  1  \n",
       "303 303            138      175  0  "
      ]
     },
     "metadata": {},
     "output_type": "display_data"
    }
   ],
   "source": [
    "final_data <- changed_num_1\n",
    "final_data <- final_data |>\n",
    "    mutate(num = as_factor(num))\n",
    "final_data"
   ]
  },
  {
   "cell_type": "code",
   "execution_count": 96,
   "id": "321272a8-ac69-4a9d-9f0d-0ebd0a8188d8",
   "metadata": {},
   "outputs": [
    {
     "data": {
      "text/html": [
       "<table class=\"dataframe\">\n",
       "<caption>A tibble: 227 × 4</caption>\n",
       "<thead>\n",
       "\t<tr><th scope=col>patient_number</th><th scope=col>trestbpd</th><th scope=col>chol</th><th scope=col>num</th></tr>\n",
       "\t<tr><th scope=col>&lt;int&gt;</th><th scope=col>&lt;dbl&gt;</th><th scope=col>&lt;dbl&gt;</th><th scope=col>&lt;fct&gt;</th></tr>\n",
       "</thead>\n",
       "<tbody>\n",
       "\t<tr><td>1</td><td>145</td><td>233</td><td>0</td></tr>\n",
       "\t<tr><td>4</td><td>130</td><td>250</td><td>0</td></tr>\n",
       "\t<tr><td>5</td><td>130</td><td>204</td><td>0</td></tr>\n",
       "\t<tr><td>⋮</td><td>⋮</td><td>⋮</td><td>⋮</td></tr>\n",
       "\t<tr><td>298</td><td>140</td><td>241</td><td>1</td></tr>\n",
       "\t<tr><td>299</td><td>110</td><td>264</td><td>1</td></tr>\n",
       "\t<tr><td>301</td><td>130</td><td>131</td><td>1</td></tr>\n",
       "</tbody>\n",
       "</table>\n"
      ],
      "text/latex": [
       "A tibble: 227 × 4\n",
       "\\begin{tabular}{llll}\n",
       " patient\\_number & trestbpd & chol & num\\\\\n",
       " <int> & <dbl> & <dbl> & <fct>\\\\\n",
       "\\hline\n",
       "\t 1 & 145 & 233 & 0\\\\\n",
       "\t 4 & 130 & 250 & 0\\\\\n",
       "\t 5 & 130 & 204 & 0\\\\\n",
       "\t ⋮ & ⋮ & ⋮ & ⋮\\\\\n",
       "\t 298 & 140 & 241 & 1\\\\\n",
       "\t 299 & 110 & 264 & 1\\\\\n",
       "\t 301 & 130 & 131 & 1\\\\\n",
       "\\end{tabular}\n"
      ],
      "text/markdown": [
       "\n",
       "A tibble: 227 × 4\n",
       "\n",
       "| patient_number &lt;int&gt; | trestbpd &lt;dbl&gt; | chol &lt;dbl&gt; | num &lt;fct&gt; |\n",
       "|---|---|---|---|\n",
       "| 1 | 145 | 233 | 0 |\n",
       "| 4 | 130 | 250 | 0 |\n",
       "| 5 | 130 | 204 | 0 |\n",
       "| ⋮ | ⋮ | ⋮ | ⋮ |\n",
       "| 298 | 140 | 241 | 1 |\n",
       "| 299 | 110 | 264 | 1 |\n",
       "| 301 | 130 | 131 | 1 |\n",
       "\n"
      ],
      "text/plain": [
       "    patient_number trestbpd chol num\n",
       "1   1              145      233  0  \n",
       "2   4              130      250  0  \n",
       "3   5              130      204  0  \n",
       "⋮   ⋮              ⋮        ⋮    ⋮  \n",
       "225 298            140      241  1  \n",
       "226 299            110      264  1  \n",
       "227 301            130      131  1  "
      ]
     },
     "metadata": {},
     "output_type": "display_data"
    },
    {
     "data": {
      "text/html": [
       "<table class=\"dataframe\">\n",
       "<caption>A tibble: 76 × 4</caption>\n",
       "<thead>\n",
       "\t<tr><th scope=col>patient_number</th><th scope=col>trestbpd</th><th scope=col>chol</th><th scope=col>num</th></tr>\n",
       "\t<tr><th scope=col>&lt;int&gt;</th><th scope=col>&lt;dbl&gt;</th><th scope=col>&lt;dbl&gt;</th><th scope=col>&lt;fct&gt;</th></tr>\n",
       "</thead>\n",
       "<tbody>\n",
       "\t<tr><td>2</td><td>160</td><td>286</td><td>1</td></tr>\n",
       "\t<tr><td>8</td><td>120</td><td>354</td><td>0</td></tr>\n",
       "\t<tr><td>9</td><td>130</td><td>254</td><td>1</td></tr>\n",
       "\t<tr><td>⋮</td><td>⋮</td><td>⋮</td><td>⋮</td></tr>\n",
       "\t<tr><td>300</td><td>144</td><td>193</td><td>1</td></tr>\n",
       "\t<tr><td>302</td><td>130</td><td>236</td><td>1</td></tr>\n",
       "\t<tr><td>303</td><td>138</td><td>175</td><td>0</td></tr>\n",
       "</tbody>\n",
       "</table>\n"
      ],
      "text/latex": [
       "A tibble: 76 × 4\n",
       "\\begin{tabular}{llll}\n",
       " patient\\_number & trestbpd & chol & num\\\\\n",
       " <int> & <dbl> & <dbl> & <fct>\\\\\n",
       "\\hline\n",
       "\t 2 & 160 & 286 & 1\\\\\n",
       "\t 8 & 120 & 354 & 0\\\\\n",
       "\t 9 & 130 & 254 & 1\\\\\n",
       "\t ⋮ & ⋮ & ⋮ & ⋮\\\\\n",
       "\t 300 & 144 & 193 & 1\\\\\n",
       "\t 302 & 130 & 236 & 1\\\\\n",
       "\t 303 & 138 & 175 & 0\\\\\n",
       "\\end{tabular}\n"
      ],
      "text/markdown": [
       "\n",
       "A tibble: 76 × 4\n",
       "\n",
       "| patient_number &lt;int&gt; | trestbpd &lt;dbl&gt; | chol &lt;dbl&gt; | num &lt;fct&gt; |\n",
       "|---|---|---|---|\n",
       "| 2 | 160 | 286 | 1 |\n",
       "| 8 | 120 | 354 | 0 |\n",
       "| 9 | 130 | 254 | 1 |\n",
       "| ⋮ | ⋮ | ⋮ | ⋮ |\n",
       "| 300 | 144 | 193 | 1 |\n",
       "| 302 | 130 | 236 | 1 |\n",
       "| 303 | 138 | 175 | 0 |\n",
       "\n"
      ],
      "text/plain": [
       "   patient_number trestbpd chol num\n",
       "1  2              160      286  1  \n",
       "2  8              120      354  0  \n",
       "3  9              130      254  1  \n",
       "⋮  ⋮              ⋮        ⋮    ⋮  \n",
       "74 300            144      193  1  \n",
       "75 302            130      236  1  \n",
       "76 303            138      175  0  "
      ]
     },
     "metadata": {},
     "output_type": "display_data"
    }
   ],
   "source": [
    "set.seed(9999)\n",
    "\n",
    "heart_disease_split <- initial_split(final_data, prop = 0.75, strata = num)\n",
    "heart_disease_train <- training(heart_disease_split)\n",
    "heart_disease_test <- testing(heart_disease_split)\n",
    "heart_disease_train\n",
    "heart_disease_test"
   ]
  },
  {
   "cell_type": "code",
   "execution_count": 97,
   "id": "34d00e83-6d0d-4c29-bdb7-0e90e45e6d80",
   "metadata": {},
   "outputs": [
    {
     "data": {
      "text/html": [
       "<table class=\"dataframe\">\n",
       "<caption>A psych: 4 × 13</caption>\n",
       "<thead>\n",
       "\t<tr><th></th><th scope=col>vars</th><th scope=col>n</th><th scope=col>mean</th><th scope=col>sd</th><th scope=col>median</th><th scope=col>trimmed</th><th scope=col>mad</th><th scope=col>min</th><th scope=col>max</th><th scope=col>range</th><th scope=col>skew</th><th scope=col>kurtosis</th><th scope=col>se</th></tr>\n",
       "\t<tr><th></th><th scope=col>&lt;int&gt;</th><th scope=col>&lt;dbl&gt;</th><th scope=col>&lt;dbl&gt;</th><th scope=col>&lt;dbl&gt;</th><th scope=col>&lt;dbl&gt;</th><th scope=col>&lt;dbl&gt;</th><th scope=col>&lt;dbl&gt;</th><th scope=col>&lt;dbl&gt;</th><th scope=col>&lt;dbl&gt;</th><th scope=col>&lt;dbl&gt;</th><th scope=col>&lt;dbl&gt;</th><th scope=col>&lt;dbl&gt;</th><th scope=col>&lt;dbl&gt;</th></tr>\n",
       "</thead>\n",
       "<tbody>\n",
       "\t<tr><th scope=row>patient_number</th><td>1</td><td>227</td><td>150.63436</td><td>86.0285159</td><td>153</td><td>150.737705</td><td>108.2298</td><td>  1</td><td>301</td><td>300</td><td>-0.03128286</td><td>-1.1991285</td><td>5.7099131</td></tr>\n",
       "\t<tr><th scope=row>trestbpd</th><td>2</td><td>227</td><td>131.79736</td><td>18.1557517</td><td>130</td><td>130.546448</td><td> 14.8260</td><td> 94</td><td>200</td><td>106</td><td> 0.72722291</td><td> 0.9437541</td><td>1.2050396</td></tr>\n",
       "\t<tr><th scope=row>chol</th><td>3</td><td>227</td><td>246.56388</td><td>53.8300268</td><td>240</td><td>244.049180</td><td> 50.4084</td><td>126</td><td>564</td><td>438</td><td> 1.17388445</td><td> 4.7696730</td><td>3.5728244</td></tr>\n",
       "\t<tr><th scope=row>num*</th><td>4</td><td>227</td><td>  1.45815</td><td> 0.4993466</td><td>  1</td><td>  1.448087</td><td>  0.0000</td><td>  1</td><td>  2</td><td>  1</td><td> 0.16688152</td><td>-1.9808185</td><td>0.0331428</td></tr>\n",
       "</tbody>\n",
       "</table>\n"
      ],
      "text/latex": [
       "A psych: 4 × 13\n",
       "\\begin{tabular}{r|lllllllllllll}\n",
       "  & vars & n & mean & sd & median & trimmed & mad & min & max & range & skew & kurtosis & se\\\\\n",
       "  & <int> & <dbl> & <dbl> & <dbl> & <dbl> & <dbl> & <dbl> & <dbl> & <dbl> & <dbl> & <dbl> & <dbl> & <dbl>\\\\\n",
       "\\hline\n",
       "\tpatient\\_number & 1 & 227 & 150.63436 & 86.0285159 & 153 & 150.737705 & 108.2298 &   1 & 301 & 300 & -0.03128286 & -1.1991285 & 5.7099131\\\\\n",
       "\ttrestbpd & 2 & 227 & 131.79736 & 18.1557517 & 130 & 130.546448 &  14.8260 &  94 & 200 & 106 &  0.72722291 &  0.9437541 & 1.2050396\\\\\n",
       "\tchol & 3 & 227 & 246.56388 & 53.8300268 & 240 & 244.049180 &  50.4084 & 126 & 564 & 438 &  1.17388445 &  4.7696730 & 3.5728244\\\\\n",
       "\tnum* & 4 & 227 &   1.45815 &  0.4993466 &   1 &   1.448087 &   0.0000 &   1 &   2 &   1 &  0.16688152 & -1.9808185 & 0.0331428\\\\\n",
       "\\end{tabular}\n"
      ],
      "text/markdown": [
       "\n",
       "A psych: 4 × 13\n",
       "\n",
       "| <!--/--> | vars &lt;int&gt; | n &lt;dbl&gt; | mean &lt;dbl&gt; | sd &lt;dbl&gt; | median &lt;dbl&gt; | trimmed &lt;dbl&gt; | mad &lt;dbl&gt; | min &lt;dbl&gt; | max &lt;dbl&gt; | range &lt;dbl&gt; | skew &lt;dbl&gt; | kurtosis &lt;dbl&gt; | se &lt;dbl&gt; |\n",
       "|---|---|---|---|---|---|---|---|---|---|---|---|---|---|\n",
       "| patient_number | 1 | 227 | 150.63436 | 86.0285159 | 153 | 150.737705 | 108.2298 |   1 | 301 | 300 | -0.03128286 | -1.1991285 | 5.7099131 |\n",
       "| trestbpd | 2 | 227 | 131.79736 | 18.1557517 | 130 | 130.546448 |  14.8260 |  94 | 200 | 106 |  0.72722291 |  0.9437541 | 1.2050396 |\n",
       "| chol | 3 | 227 | 246.56388 | 53.8300268 | 240 | 244.049180 |  50.4084 | 126 | 564 | 438 |  1.17388445 |  4.7696730 | 3.5728244 |\n",
       "| num* | 4 | 227 |   1.45815 |  0.4993466 |   1 |   1.448087 |   0.0000 |   1 |   2 |   1 |  0.16688152 | -1.9808185 | 0.0331428 |\n",
       "\n"
      ],
      "text/plain": [
       "               vars n   mean      sd         median trimmed    mad      min max\n",
       "patient_number 1    227 150.63436 86.0285159 153    150.737705 108.2298   1 301\n",
       "trestbpd       2    227 131.79736 18.1557517 130    130.546448  14.8260  94 200\n",
       "chol           3    227 246.56388 53.8300268 240    244.049180  50.4084 126 564\n",
       "num*           4    227   1.45815  0.4993466   1      1.448087   0.0000   1   2\n",
       "               range skew        kurtosis   se       \n",
       "patient_number 300   -0.03128286 -1.1991285 5.7099131\n",
       "trestbpd       106    0.72722291  0.9437541 1.2050396\n",
       "chol           438    1.17388445  4.7696730 3.5728244\n",
       "num*             1    0.16688152 -1.9808185 0.0331428"
      ]
     },
     "metadata": {},
     "output_type": "display_data"
    }
   ],
   "source": [
    "describe(heart_disease_train)"
   ]
  },
  {
   "cell_type": "code",
   "execution_count": 98,
   "id": "419467ab-10c8-448a-93af-1e9c060f40f3",
   "metadata": {},
   "outputs": [
    {
     "data": {
      "image/png": "[encoded data removed]",
      "text/plain": [
       "plot without title"
      ]
     },
     "metadata": {
      "image/png": {
       "height": 480,
       "width": 720
      }
     },
     "output_type": "display_data"
    }
   ],
   "source": [
    "#scatterplot visualising the relationship between cholesterol, resting blood pressure, and heart disease\n",
    "#1 means presence and 0 means absence of heart disease\n",
    "options(repr.plot.width = 12, repr.plot.height = 8)\n",
    "heart_disease_plot <- heart_disease_train |>\n",
    "    ggplot(aes(x = trestbpd, y = chol, color = num))+\n",
    "    geom_point() +\n",
    "    labs(x = \"Resting Blood Pressure (mmHg)\", y = \"Cholesterol Levels (mg/dL)\", colour = \"Presence or Absence of Heart Disease\")+\n",
    "    theme(text = element_text(size = 20))\n",
    "heart_disease_plot"
   ]
  },
  {
   "cell_type": "code",
   "execution_count": 99,
   "id": "90f8bc50-6015-4835-83a7-60157e2d5f82",
   "metadata": {},
   "outputs": [
    {
     "data": {
      "text/plain": [
       "K-Nearest Neighbor Model Specification (classification)\n",
       "\n",
       "Main Arguments:\n",
       "  neighbors = tune()\n",
       "  weight_func = rectangular\n",
       "\n",
       "Computational engine: kknn \n"
      ]
     },
     "metadata": {},
     "output_type": "display_data"
    },
    {
     "data": {
      "text/plain": [
       "Recipe\n",
       "\n",
       "Inputs:\n",
       "\n",
       "      role #variables\n",
       "   outcome          1\n",
       " predictor          2\n",
       "\n",
       "Operations:\n",
       "\n",
       "Scaling for all_predictors()\n",
       "Centering for all_predictors()"
      ]
     },
     "metadata": {},
     "output_type": "display_data"
    },
    {
     "data": {
      "text/html": [
       "<table class=\"dataframe\">\n",
       "<caption>A tibble: 100 × 7</caption>\n",
       "<thead>\n",
       "\t<tr><th scope=col>neighbors</th><th scope=col>.metric</th><th scope=col>.estimator</th><th scope=col>mean</th><th scope=col>n</th><th scope=col>std_err</th><th scope=col>.config</th></tr>\n",
       "\t<tr><th scope=col>&lt;dbl&gt;</th><th scope=col>&lt;chr&gt;</th><th scope=col>&lt;chr&gt;</th><th scope=col>&lt;dbl&gt;</th><th scope=col>&lt;int&gt;</th><th scope=col>&lt;dbl&gt;</th><th scope=col>&lt;chr&gt;</th></tr>\n",
       "</thead>\n",
       "<tbody>\n",
       "\t<tr><td>1</td><td>accuracy</td><td>binary</td><td>0.5285112</td><td>5</td><td>0.03372112</td><td>Preprocessor1_Model01</td></tr>\n",
       "\t<tr><td>1</td><td>roc_auc </td><td>binary</td><td>0.5248810</td><td>5</td><td>0.03234991</td><td>Preprocessor1_Model01</td></tr>\n",
       "\t<tr><td>3</td><td>accuracy</td><td>binary</td><td>0.5421432</td><td>5</td><td>0.01680975</td><td>Preprocessor1_Model02</td></tr>\n",
       "\t<tr><td>⋮</td><td>⋮</td><td>⋮</td><td>⋮</td><td>⋮</td><td>⋮</td><td>⋮</td></tr>\n",
       "\t<tr><td>97</td><td>roc_auc </td><td>binary</td><td>0.5963274</td><td>5</td><td>0.01777977</td><td>Preprocessor1_Model49</td></tr>\n",
       "\t<tr><td>99</td><td>accuracy</td><td>binary</td><td>0.5550812</td><td>5</td><td>0.01197949</td><td>Preprocessor1_Model50</td></tr>\n",
       "\t<tr><td>99</td><td>roc_auc </td><td>binary</td><td>0.5890020</td><td>5</td><td>0.01967669</td><td>Preprocessor1_Model50</td></tr>\n",
       "</tbody>\n",
       "</table>\n"
      ],
      "text/latex": [
       "A tibble: 100 × 7\n",
       "\\begin{tabular}{lllllll}\n",
       " neighbors & .metric & .estimator & mean & n & std\\_err & .config\\\\\n",
       " <dbl> & <chr> & <chr> & <dbl> & <int> & <dbl> & <chr>\\\\\n",
       "\\hline\n",
       "\t 1 & accuracy & binary & 0.5285112 & 5 & 0.03372112 & Preprocessor1\\_Model01\\\\\n",
       "\t 1 & roc\\_auc  & binary & 0.5248810 & 5 & 0.03234991 & Preprocessor1\\_Model01\\\\\n",
       "\t 3 & accuracy & binary & 0.5421432 & 5 & 0.01680975 & Preprocessor1\\_Model02\\\\\n",
       "\t ⋮ & ⋮ & ⋮ & ⋮ & ⋮ & ⋮ & ⋮\\\\\n",
       "\t 97 & roc\\_auc  & binary & 0.5963274 & 5 & 0.01777977 & Preprocessor1\\_Model49\\\\\n",
       "\t 99 & accuracy & binary & 0.5550812 & 5 & 0.01197949 & Preprocessor1\\_Model50\\\\\n",
       "\t 99 & roc\\_auc  & binary & 0.5890020 & 5 & 0.01967669 & Preprocessor1\\_Model50\\\\\n",
       "\\end{tabular}\n"
      ],
      "text/markdown": [
       "\n",
       "A tibble: 100 × 7\n",
       "\n",
       "| neighbors &lt;dbl&gt; | .metric &lt;chr&gt; | .estimator &lt;chr&gt; | mean &lt;dbl&gt; | n &lt;int&gt; | std_err &lt;dbl&gt; | .config &lt;chr&gt; |\n",
       "|---|---|---|---|---|---|---|\n",
       "| 1 | accuracy | binary | 0.5285112 | 5 | 0.03372112 | Preprocessor1_Model01 |\n",
       "| 1 | roc_auc  | binary | 0.5248810 | 5 | 0.03234991 | Preprocessor1_Model01 |\n",
       "| 3 | accuracy | binary | 0.5421432 | 5 | 0.01680975 | Preprocessor1_Model02 |\n",
       "| ⋮ | ⋮ | ⋮ | ⋮ | ⋮ | ⋮ | ⋮ |\n",
       "| 97 | roc_auc  | binary | 0.5963274 | 5 | 0.01777977 | Preprocessor1_Model49 |\n",
       "| 99 | accuracy | binary | 0.5550812 | 5 | 0.01197949 | Preprocessor1_Model50 |\n",
       "| 99 | roc_auc  | binary | 0.5890020 | 5 | 0.01967669 | Preprocessor1_Model50 |\n",
       "\n"
      ],
      "text/plain": [
       "    neighbors .metric  .estimator mean      n std_err    .config              \n",
       "1   1         accuracy binary     0.5285112 5 0.03372112 Preprocessor1_Model01\n",
       "2   1         roc_auc  binary     0.5248810 5 0.03234991 Preprocessor1_Model01\n",
       "3   3         accuracy binary     0.5421432 5 0.01680975 Preprocessor1_Model02\n",
       "⋮   ⋮         ⋮        ⋮          ⋮         ⋮ ⋮          ⋮                    \n",
       "98  97        roc_auc  binary     0.5963274 5 0.01777977 Preprocessor1_Model49\n",
       "99  99        accuracy binary     0.5550812 5 0.01197949 Preprocessor1_Model50\n",
       "100 99        roc_auc  binary     0.5890020 5 0.01967669 Preprocessor1_Model50"
      ]
     },
     "metadata": {},
     "output_type": "display_data"
    }
   ],
   "source": [
    "#create model, recipe, and tune workflow to perform 5 fold cross-validation to select the best k in the range 1-10\n",
    "#collect_metrics() used return a table that tells the classifier's mean and standard error\n",
    "\n",
    "set.seed(9999)\n",
    "\n",
    "heart_disease_tune <- nearest_neighbor(weight_func = \"rectangular\", neighbors = tune())|>\n",
    "    set_engine(\"kknn\")|>\n",
    "    set_mode(\"classification\")\n",
    "heart_disease_tune\n",
    "\n",
    "heart_disease_recipe <- recipe(num ~ trestbpd + chol, data = heart_disease_train)|>\n",
    "    step_scale(all_predictors())|>\n",
    "    step_center(all_predictors())\n",
    "heart_disease_recipe\n",
    "\n",
    "heart_disease_vfold <- vfold_cv(heart_disease_train, v = 5, strata = num)\n",
    "\n",
    "grid_vals <- tibble(neighbors = seq(from = 1, to = 100, by = 2))\n",
    "\n",
    "heart_disease_tune_workflow <- workflow()|>\n",
    "    add_recipe(heart_disease_recipe)|>\n",
    "    add_model(heart_disease_tune)|>\n",
    "    tune_grid(resamples = heart_disease_vfold, grid = grid_vals)|>\n",
    "    collect_metrics()\n",
    "heart_disease_tune_workflow\n",
    "    "
   ]
  },
  {
   "cell_type": "code",
   "execution_count": 100,
   "id": "beee3632-4fda-4f38-a1ea-0c264789fec1",
   "metadata": {},
   "outputs": [
    {
     "data": {
      "image/png": "[encoded data removed]",
      "text/plain": [
       "plot without title"
      ]
     },
     "metadata": {
      "image/png": {
       "height": 480,
       "width": 720
      }
     },
     "output_type": "display_data"
    }
   ],
   "source": [
    "#now make a plot to determine which k gives the highest accuracy to find the best k\n",
    "\n",
    "accuracies <- heart_disease_tune_workflow|>\n",
    "    filter(.metric == \"accuracy\")\n",
    "\n",
    "accuracy_vs_k <- ggplot(accuracies, aes(x = neighbors, y = mean))+\n",
    "    geom_point()+\n",
    "    geom_line()+\n",
    "    labs(x = \"Neighbors\", y = \"Accuracy Estimate\")\n",
    "accuracy_vs_k"
   ]
  },
  {
   "cell_type": "code",
   "execution_count": 108,
   "id": "daebd1fa-eda4-42fa-ba74-a4c6bc029d2c",
   "metadata": {},
   "outputs": [
    {
     "ename": "ERROR",
     "evalue": "\u001b[1m\u001b[33mError\u001b[39m in \u001b[1m\u001b[1m`max()`:\u001b[22m\n\u001b[33m!\u001b[39m invalid 'type' (closure) of argument\n",
     "output_type": "error",
     "traceback": [
      "\u001b[1m\u001b[33mError\u001b[39m in \u001b[1m\u001b[1m`max()`:\u001b[22m\n\u001b[33m!\u001b[39m invalid 'type' (closure) of argument\nTraceback:\n",
      "1. rowwise(filter(heart_disease_tune_workflow, .metric == \"accuracy\"), \n .     maximum = , max(accuracy))",
      "2. rowwise.data.frame(filter(heart_disease_tune_workflow, .metric == \n .     \"accuracy\"), maximum = , max(accuracy))",
      "3. tidyselect::eval_select(expr(c(...)), data)",
      "4. eval_select_impl(data, names(data), as_quosure(expr, env), include = include, \n .     exclude = exclude, strict = strict, name_spec = name_spec, \n .     allow_rename = allow_rename, error_call = error_call, )",
      "5. with_subscript_errors(vars_select_eval(vars, expr, strict = strict, \n .     data = x, name_spec = name_spec, uniquely_named = uniquely_named, \n .     allow_rename = allow_rename, type = type, error_call = error_call), \n .     type = type)",
      "6. tryCatch(with_entraced_errors(expr), vctrs_error_subscript = function(cnd) {\n .     cnd$subscript_action <- subscript_action(type)\n .     cnd$subscript_elt <- \"column\"\n .     cnd_signal(cnd)\n . })",
      "7. tryCatchList(expr, classes, parentenv, handlers)",
      "8. tryCatchOne(expr, names, parentenv, handlers[[1L]])",
      "9. doTryCatch(return(expr), name, parentenv, handler)",
      "10. with_entraced_errors(expr)",
      "11. try_fetch(expr, simpleError = function(cnd) {\n  .     abort(conditionMessage(cnd), call = conditionCall(cnd))\n  . })",
      "12. withCallingHandlers(expr, simpleError = function(cnd) {\n  .     {\n  .         .__handler_frame__. <- TRUE\n  .         .__setup_frame__. <- frame\n  .     }\n  .     out <- handlers[[1L]](cnd)\n  .     if (!inherits(out, \"rlang_zap\")) \n  .         throw(out)\n  . })",
      "13. vars_select_eval(vars, expr, strict = strict, data = x, name_spec = name_spec, \n  .     uniquely_named = uniquely_named, allow_rename = allow_rename, \n  .     type = type, error_call = error_call)",
      "14. walk_data_tree(expr, data_mask, context_mask, error_call)",
      "15. eval_c(expr, data_mask, context_mask)",
      "16. reduce_sels(node, data_mask, context_mask, init = init)",
      "17. walk_data_tree(new, data_mask, context_mask)",
      "18. eval_context(expr, context_mask)",
      "19. eval_tidy(expr, context_mask)",
      "20. .handleSimpleError(function (cnd) \n  . {\n  .     {\n  .         .__handler_frame__. <- TRUE\n  .         .__setup_frame__. <- frame\n  .     }\n  .     out <- handlers[[1L]](cnd)\n  .     if (!inherits(out, \"rlang_zap\")) \n  .         throw(out)\n  . }, \"invalid 'type' (closure) of argument\", base::quote(max(accuracy)))",
      "21. h(simpleError(msg, call))",
      "22. handlers[[1L]](cnd)",
      "23. abort(conditionMessage(cnd), call = conditionCall(cnd))",
      "24. signal_abort(cnd, .file)"
     ]
    }
   ],
   "source": [
    "#to determine the best k value\n",
    "accuracies1 <- heart_disease_tune_workflow|>\n",
    "    filter(.metric == \"accuracy\")|>\n",
    "    rowwise(maximum = , max(accuracy))\n",
    "accuracies1"
   ]
  },
  {
   "cell_type": "raw",
   "id": "4ae277e8-d18d-4c60-baea-c5e555b67b45",
   "metadata": {},
   "source": []
  },
  {
   "cell_type": "code",
   "execution_count": null,
   "id": "f91978c7-f1e4-4f19-b41a-755a9ee6c59d",
   "metadata": {},
   "outputs": [],
   "source": []
  }
 ],
 "metadata": {
  "kernelspec": {
   "display_name": "R",
   "language": "R",
   "name": "ir"
  },
  "language_info": {
   "codemirror_mode": "r",
   "file_extension": ".r",
   "mimetype": "text/x-r-source",
   "name": "R",
   "pygments_lexer": "r",
   "version": "4.1.3"
  }
 },
 "nbformat": 4,
 "nbformat_minor": 5
}
