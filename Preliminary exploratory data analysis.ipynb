{
 "cells": [
  {
   "cell_type": "markdown",
   "id": "9801f23e",
   "metadata": {},
   "source": [
    "## DSCI 100 007 Group 37\n",
    "\n",
    "- #####  Preliminary exploratory data analysis"
   ]
  },
  {
   "cell_type": "code",
   "execution_count": 15,
   "id": "c09559b8-6b2a-4f5b-853e-19fbc9a9e8e2",
   "metadata": {},
   "outputs": [
    {
     "name": "stderr",
     "output_type": "stream",
     "text": [
      "Updating HTML index of packages in '.Library'\n",
      "\n",
      "Making 'packages.html' ...\n",
      " done\n",
      "\n"
     ]
    }
   ],
   "source": [
    "install.packages(\"psych\")"
   ]
  },
  {
   "cell_type": "code",
   "execution_count": 16,
   "id": "d08f5a72-c3e7-4b59-8df3-8f8c15a45230",
   "metadata": {},
   "outputs": [],
   "source": [
    "library(tidyverse)\n",
    "library(ggplot2)\n",
    "library(psych)\n",
    "library(tidymodels)\n",
    "options(repr.matrix.max.rows = 6)\n",
    "library(repr)"
   ]
  },
  {
   "cell_type": "markdown",
   "id": "9e6eebb1",
   "metadata": {},
   "source": [
    "##### Step 1 : read data from url"
   ]
  },
  {
   "cell_type": "code",
   "execution_count": 17,
   "id": "266836e1",
   "metadata": {},
   "outputs": [
    {
     "name": "stderr",
     "output_type": "stream",
     "text": [
      "\u001b[1m\u001b[22mNew names:\n",
      "\u001b[36m•\u001b[39m `1.0` -> `1.0...2`\n",
      "\u001b[36m•\u001b[39m `1.0` -> `1.0...3`\n",
      "\u001b[36m•\u001b[39m `1.0` -> `1.0...6`\n",
      "\u001b[36m•\u001b[39m `0.0` -> `0.0...9`\n",
      "\u001b[36m•\u001b[39m `0.0` -> `0.0...12`\n",
      "\u001b[1mRows: \u001b[22m\u001b[34m302\u001b[39m \u001b[1mColumns: \u001b[22m\u001b[34m14\u001b[39m\n",
      "\u001b[36m──\u001b[39m \u001b[1mColumn specification\u001b[22m \u001b[36m────────────────────────────────────────────────────────\u001b[39m\n",
      "\u001b[1mDelimiter:\u001b[22m \",\"\n",
      "\u001b[31mchr\u001b[39m  (2): 0.0...12, 6.0\n",
      "\u001b[32mdbl\u001b[39m (12): 63.0, 1.0...2, 1.0...3, 145.0, 233.0, 1.0...6, 2.0, 150.0, 0.0...9...\n",
      "\n",
      "\u001b[36mℹ\u001b[39m Use `spec()` to retrieve the full column specification for this data.\n",
      "\u001b[36mℹ\u001b[39m Specify the column types or set `show_col_types = FALSE` to quiet this message.\n"
     ]
    },
    {
     "data": {
      "text/html": [
       "<table class=\"dataframe\">\n",
       "<caption>A spec_tbl_df: 302 × 14</caption>\n",
       "<thead>\n",
       "\t<tr><th scope=col>63.0</th><th scope=col>1.0...2</th><th scope=col>1.0...3</th><th scope=col>145.0</th><th scope=col>233.0</th><th scope=col>1.0...6</th><th scope=col>2.0</th><th scope=col>150.0</th><th scope=col>0.0...9</th><th scope=col>2.3</th><th scope=col>3.0</th><th scope=col>0.0...12</th><th scope=col>6.0</th><th scope=col>0</th></tr>\n",
       "\t<tr><th scope=col>&lt;dbl&gt;</th><th scope=col>&lt;dbl&gt;</th><th scope=col>&lt;dbl&gt;</th><th scope=col>&lt;dbl&gt;</th><th scope=col>&lt;dbl&gt;</th><th scope=col>&lt;dbl&gt;</th><th scope=col>&lt;dbl&gt;</th><th scope=col>&lt;dbl&gt;</th><th scope=col>&lt;dbl&gt;</th><th scope=col>&lt;dbl&gt;</th><th scope=col>&lt;dbl&gt;</th><th scope=col>&lt;chr&gt;</th><th scope=col>&lt;chr&gt;</th><th scope=col>&lt;dbl&gt;</th></tr>\n",
       "</thead>\n",
       "<tbody>\n",
       "\t<tr><td>67</td><td>1</td><td>4</td><td>160</td><td>286</td><td>0</td><td>2</td><td>108</td><td>1</td><td>1.5</td><td>2</td><td>3.0</td><td>3.0</td><td>2</td></tr>\n",
       "\t<tr><td>67</td><td>1</td><td>4</td><td>120</td><td>229</td><td>0</td><td>2</td><td>129</td><td>1</td><td>2.6</td><td>2</td><td>2.0</td><td>7.0</td><td>1</td></tr>\n",
       "\t<tr><td>37</td><td>1</td><td>3</td><td>130</td><td>250</td><td>0</td><td>0</td><td>187</td><td>0</td><td>3.5</td><td>3</td><td>0.0</td><td>3.0</td><td>0</td></tr>\n",
       "\t<tr><td>⋮</td><td>⋮</td><td>⋮</td><td>⋮</td><td>⋮</td><td>⋮</td><td>⋮</td><td>⋮</td><td>⋮</td><td>⋮</td><td>⋮</td><td>⋮</td><td>⋮</td><td>⋮</td></tr>\n",
       "\t<tr><td>57</td><td>1</td><td>4</td><td>130</td><td>131</td><td>0</td><td>0</td><td>115</td><td>1</td><td>1.2</td><td>2</td><td>1.0</td><td>7.0</td><td>3</td></tr>\n",
       "\t<tr><td>57</td><td>0</td><td>2</td><td>130</td><td>236</td><td>0</td><td>2</td><td>174</td><td>0</td><td>0.0</td><td>2</td><td>1.0</td><td>3.0</td><td>1</td></tr>\n",
       "\t<tr><td>38</td><td>1</td><td>3</td><td>138</td><td>175</td><td>0</td><td>0</td><td>173</td><td>0</td><td>0.0</td><td>1</td><td>?  </td><td>3.0</td><td>0</td></tr>\n",
       "</tbody>\n",
       "</table>\n"
      ],
      "text/latex": [
       "A spec\\_tbl\\_df: 302 × 14\n",
       "\\begin{tabular}{llllllllllllll}\n",
       " 63.0 & 1.0...2 & 1.0...3 & 145.0 & 233.0 & 1.0...6 & 2.0 & 150.0 & 0.0...9 & 2.3 & 3.0 & 0.0...12 & 6.0 & 0\\\\\n",
       " <dbl> & <dbl> & <dbl> & <dbl> & <dbl> & <dbl> & <dbl> & <dbl> & <dbl> & <dbl> & <dbl> & <chr> & <chr> & <dbl>\\\\\n",
       "\\hline\n",
       "\t 67 & 1 & 4 & 160 & 286 & 0 & 2 & 108 & 1 & 1.5 & 2 & 3.0 & 3.0 & 2\\\\\n",
       "\t 67 & 1 & 4 & 120 & 229 & 0 & 2 & 129 & 1 & 2.6 & 2 & 2.0 & 7.0 & 1\\\\\n",
       "\t 37 & 1 & 3 & 130 & 250 & 0 & 0 & 187 & 0 & 3.5 & 3 & 0.0 & 3.0 & 0\\\\\n",
       "\t ⋮ & ⋮ & ⋮ & ⋮ & ⋮ & ⋮ & ⋮ & ⋮ & ⋮ & ⋮ & ⋮ & ⋮ & ⋮ & ⋮\\\\\n",
       "\t 57 & 1 & 4 & 130 & 131 & 0 & 0 & 115 & 1 & 1.2 & 2 & 1.0 & 7.0 & 3\\\\\n",
       "\t 57 & 0 & 2 & 130 & 236 & 0 & 2 & 174 & 0 & 0.0 & 2 & 1.0 & 3.0 & 1\\\\\n",
       "\t 38 & 1 & 3 & 138 & 175 & 0 & 0 & 173 & 0 & 0.0 & 1 & ?   & 3.0 & 0\\\\\n",
       "\\end{tabular}\n"
      ],
      "text/markdown": [
       "\n",
       "A spec_tbl_df: 302 × 14\n",
       "\n",
       "| 63.0 &lt;dbl&gt; | 1.0...2 &lt;dbl&gt; | 1.0...3 &lt;dbl&gt; | 145.0 &lt;dbl&gt; | 233.0 &lt;dbl&gt; | 1.0...6 &lt;dbl&gt; | 2.0 &lt;dbl&gt; | 150.0 &lt;dbl&gt; | 0.0...9 &lt;dbl&gt; | 2.3 &lt;dbl&gt; | 3.0 &lt;dbl&gt; | 0.0...12 &lt;chr&gt; | 6.0 &lt;chr&gt; | 0 &lt;dbl&gt; |\n",
       "|---|---|---|---|---|---|---|---|---|---|---|---|---|---|\n",
       "| 67 | 1 | 4 | 160 | 286 | 0 | 2 | 108 | 1 | 1.5 | 2 | 3.0 | 3.0 | 2 |\n",
       "| 67 | 1 | 4 | 120 | 229 | 0 | 2 | 129 | 1 | 2.6 | 2 | 2.0 | 7.0 | 1 |\n",
       "| 37 | 1 | 3 | 130 | 250 | 0 | 0 | 187 | 0 | 3.5 | 3 | 0.0 | 3.0 | 0 |\n",
       "| ⋮ | ⋮ | ⋮ | ⋮ | ⋮ | ⋮ | ⋮ | ⋮ | ⋮ | ⋮ | ⋮ | ⋮ | ⋮ | ⋮ |\n",
       "| 57 | 1 | 4 | 130 | 131 | 0 | 0 | 115 | 1 | 1.2 | 2 | 1.0 | 7.0 | 3 |\n",
       "| 57 | 0 | 2 | 130 | 236 | 0 | 2 | 174 | 0 | 0.0 | 2 | 1.0 | 3.0 | 1 |\n",
       "| 38 | 1 | 3 | 138 | 175 | 0 | 0 | 173 | 0 | 0.0 | 1 | ?   | 3.0 | 0 |\n",
       "\n"
      ],
      "text/plain": [
       "    63.0 1.0...2 1.0...3 145.0 233.0 1.0...6 2.0 150.0 0.0...9 2.3 3.0 0.0...12\n",
       "1   67   1       4       160   286   0       2   108   1       1.5 2   3.0     \n",
       "2   67   1       4       120   229   0       2   129   1       2.6 2   2.0     \n",
       "3   37   1       3       130   250   0       0   187   0       3.5 3   0.0     \n",
       "⋮   ⋮    ⋮       ⋮       ⋮     ⋮     ⋮       ⋮   ⋮     ⋮       ⋮   ⋮   ⋮       \n",
       "300 57   1       4       130   131   0       0   115   1       1.2 2   1.0     \n",
       "301 57   0       2       130   236   0       2   174   0       0.0 2   1.0     \n",
       "302 38   1       3       138   175   0       0   173   0       0.0 1   ?       \n",
       "    6.0 0\n",
       "1   3.0 2\n",
       "2   7.0 1\n",
       "3   3.0 0\n",
       "⋮   ⋮   ⋮\n",
       "300 7.0 3\n",
       "301 3.0 1\n",
       "302 3.0 0"
      ]
     },
     "metadata": {},
     "output_type": "display_data"
    }
   ],
   "source": [
    "path <- \"https://archive.ics.uci.edu/ml/machine-learning-databases/heart-disease/processed.cleveland.data\"\n",
    "heart_disease_data <-read_csv(path)\n",
    "heart_disease_data"
   ]
  },
  {
   "cell_type": "markdown",
   "id": "cc29ce64",
   "metadata": {},
   "source": [
    "##### Step 2 : Naming and filtering data"
   ]
  },
  {
   "cell_type": "code",
   "execution_count": 18,
   "id": "c1444664",
   "metadata": {},
   "outputs": [
    {
     "name": "stderr",
     "output_type": "stream",
     "text": [
      "\u001b[1mRows: \u001b[22m\u001b[34m303\u001b[39m \u001b[1mColumns: \u001b[22m\u001b[34m14\u001b[39m\n",
      "\u001b[36m──\u001b[39m \u001b[1mColumn specification\u001b[22m \u001b[36m────────────────────────────────────────────────────────\u001b[39m\n",
      "\u001b[1mDelimiter:\u001b[22m \",\"\n",
      "\u001b[31mchr\u001b[39m  (2): X12, X13\n",
      "\u001b[32mdbl\u001b[39m (12): X1, X2, X3, X4, X5, X6, X7, X8, X9, X10, X11, X14\n",
      "\n",
      "\u001b[36mℹ\u001b[39m Use `spec()` to retrieve the full column specification for this data.\n",
      "\u001b[36mℹ\u001b[39m Specify the column types or set `show_col_types = FALSE` to quiet this message.\n"
     ]
    },
    {
     "data": {
      "text/html": [
       "<table class=\"dataframe\">\n",
       "<caption>A spec_tbl_df: 303 × 14</caption>\n",
       "<thead>\n",
       "\t<tr><th scope=col>age</th><th scope=col>sex</th><th scope=col>cp</th><th scope=col>trestbpd</th><th scope=col>chol</th><th scope=col>fbs</th><th scope=col>restecg</th><th scope=col>thalach</th><th scope=col>exang</th><th scope=col>oldpeak</th><th scope=col>slope</th><th scope=col>ca</th><th scope=col>thal</th><th scope=col>num</th></tr>\n",
       "\t<tr><th scope=col>&lt;dbl&gt;</th><th scope=col>&lt;dbl&gt;</th><th scope=col>&lt;dbl&gt;</th><th scope=col>&lt;dbl&gt;</th><th scope=col>&lt;dbl&gt;</th><th scope=col>&lt;dbl&gt;</th><th scope=col>&lt;dbl&gt;</th><th scope=col>&lt;dbl&gt;</th><th scope=col>&lt;dbl&gt;</th><th scope=col>&lt;dbl&gt;</th><th scope=col>&lt;dbl&gt;</th><th scope=col>&lt;chr&gt;</th><th scope=col>&lt;chr&gt;</th><th scope=col>&lt;dbl&gt;</th></tr>\n",
       "</thead>\n",
       "<tbody>\n",
       "\t<tr><td>63</td><td>1</td><td>1</td><td>145</td><td>233</td><td>1</td><td>2</td><td>150</td><td>0</td><td>2.3</td><td>3</td><td>0.0</td><td>6.0</td><td>0</td></tr>\n",
       "\t<tr><td>67</td><td>1</td><td>4</td><td>160</td><td>286</td><td>0</td><td>2</td><td>108</td><td>1</td><td>1.5</td><td>2</td><td>3.0</td><td>3.0</td><td>2</td></tr>\n",
       "\t<tr><td>67</td><td>1</td><td>4</td><td>120</td><td>229</td><td>0</td><td>2</td><td>129</td><td>1</td><td>2.6</td><td>2</td><td>2.0</td><td>7.0</td><td>1</td></tr>\n",
       "\t<tr><td>⋮</td><td>⋮</td><td>⋮</td><td>⋮</td><td>⋮</td><td>⋮</td><td>⋮</td><td>⋮</td><td>⋮</td><td>⋮</td><td>⋮</td><td>⋮</td><td>⋮</td><td>⋮</td></tr>\n",
       "\t<tr><td>57</td><td>1</td><td>4</td><td>130</td><td>131</td><td>0</td><td>0</td><td>115</td><td>1</td><td>1.2</td><td>2</td><td>1.0</td><td>7.0</td><td>3</td></tr>\n",
       "\t<tr><td>57</td><td>0</td><td>2</td><td>130</td><td>236</td><td>0</td><td>2</td><td>174</td><td>0</td><td>0.0</td><td>2</td><td>1.0</td><td>3.0</td><td>1</td></tr>\n",
       "\t<tr><td>38</td><td>1</td><td>3</td><td>138</td><td>175</td><td>0</td><td>0</td><td>173</td><td>0</td><td>0.0</td><td>1</td><td>?  </td><td>3.0</td><td>0</td></tr>\n",
       "</tbody>\n",
       "</table>\n"
      ],
      "text/latex": [
       "A spec\\_tbl\\_df: 303 × 14\n",
       "\\begin{tabular}{llllllllllllll}\n",
       " age & sex & cp & trestbpd & chol & fbs & restecg & thalach & exang & oldpeak & slope & ca & thal & num\\\\\n",
       " <dbl> & <dbl> & <dbl> & <dbl> & <dbl> & <dbl> & <dbl> & <dbl> & <dbl> & <dbl> & <dbl> & <chr> & <chr> & <dbl>\\\\\n",
       "\\hline\n",
       "\t 63 & 1 & 1 & 145 & 233 & 1 & 2 & 150 & 0 & 2.3 & 3 & 0.0 & 6.0 & 0\\\\\n",
       "\t 67 & 1 & 4 & 160 & 286 & 0 & 2 & 108 & 1 & 1.5 & 2 & 3.0 & 3.0 & 2\\\\\n",
       "\t 67 & 1 & 4 & 120 & 229 & 0 & 2 & 129 & 1 & 2.6 & 2 & 2.0 & 7.0 & 1\\\\\n",
       "\t ⋮ & ⋮ & ⋮ & ⋮ & ⋮ & ⋮ & ⋮ & ⋮ & ⋮ & ⋮ & ⋮ & ⋮ & ⋮ & ⋮\\\\\n",
       "\t 57 & 1 & 4 & 130 & 131 & 0 & 0 & 115 & 1 & 1.2 & 2 & 1.0 & 7.0 & 3\\\\\n",
       "\t 57 & 0 & 2 & 130 & 236 & 0 & 2 & 174 & 0 & 0.0 & 2 & 1.0 & 3.0 & 1\\\\\n",
       "\t 38 & 1 & 3 & 138 & 175 & 0 & 0 & 173 & 0 & 0.0 & 1 & ?   & 3.0 & 0\\\\\n",
       "\\end{tabular}\n"
      ],
      "text/markdown": [
       "\n",
       "A spec_tbl_df: 303 × 14\n",
       "\n",
       "| age &lt;dbl&gt; | sex &lt;dbl&gt; | cp &lt;dbl&gt; | trestbpd &lt;dbl&gt; | chol &lt;dbl&gt; | fbs &lt;dbl&gt; | restecg &lt;dbl&gt; | thalach &lt;dbl&gt; | exang &lt;dbl&gt; | oldpeak &lt;dbl&gt; | slope &lt;dbl&gt; | ca &lt;chr&gt; | thal &lt;chr&gt; | num &lt;dbl&gt; |\n",
       "|---|---|---|---|---|---|---|---|---|---|---|---|---|---|\n",
       "| 63 | 1 | 1 | 145 | 233 | 1 | 2 | 150 | 0 | 2.3 | 3 | 0.0 | 6.0 | 0 |\n",
       "| 67 | 1 | 4 | 160 | 286 | 0 | 2 | 108 | 1 | 1.5 | 2 | 3.0 | 3.0 | 2 |\n",
       "| 67 | 1 | 4 | 120 | 229 | 0 | 2 | 129 | 1 | 2.6 | 2 | 2.0 | 7.0 | 1 |\n",
       "| ⋮ | ⋮ | ⋮ | ⋮ | ⋮ | ⋮ | ⋮ | ⋮ | ⋮ | ⋮ | ⋮ | ⋮ | ⋮ | ⋮ |\n",
       "| 57 | 1 | 4 | 130 | 131 | 0 | 0 | 115 | 1 | 1.2 | 2 | 1.0 | 7.0 | 3 |\n",
       "| 57 | 0 | 2 | 130 | 236 | 0 | 2 | 174 | 0 | 0.0 | 2 | 1.0 | 3.0 | 1 |\n",
       "| 38 | 1 | 3 | 138 | 175 | 0 | 0 | 173 | 0 | 0.0 | 1 | ?   | 3.0 | 0 |\n",
       "\n"
      ],
      "text/plain": [
       "    age sex cp trestbpd chol fbs restecg thalach exang oldpeak slope ca  thal\n",
       "1   63  1   1  145      233  1   2       150     0     2.3     3     0.0 6.0 \n",
       "2   67  1   4  160      286  0   2       108     1     1.5     2     3.0 3.0 \n",
       "3   67  1   4  120      229  0   2       129     1     2.6     2     2.0 7.0 \n",
       "⋮   ⋮   ⋮   ⋮  ⋮        ⋮    ⋮   ⋮       ⋮       ⋮     ⋮       ⋮     ⋮   ⋮   \n",
       "301 57  1   4  130      131  0   0       115     1     1.2     2     1.0 7.0 \n",
       "302 57  0   2  130      236  0   2       174     0     0.0     2     1.0 3.0 \n",
       "303 38  1   3  138      175  0   0       173     0     0.0     1     ?   3.0 \n",
       "    num\n",
       "1   0  \n",
       "2   2  \n",
       "3   1  \n",
       "⋮   ⋮  \n",
       "301 3  \n",
       "302 1  \n",
       "303 0  "
      ]
     },
     "metadata": {},
     "output_type": "display_data"
    }
   ],
   "source": [
    "# Give each column a specific name from given dataset\n",
    "heart_disease_data <- read_csv(path, col_names = FALSE) |> \n",
    "  set_names(c(\"age\", \"sex\", \"cp\", \"trestbpd\", \"chol\", \"fbs\", \"restecg\", \"thalach\",\n",
    "              \"exang\", \"oldpeak\", \"slope\", \"ca\", \"thal\", \"num\"))\n",
    "heart_disease_data"
   ]
  },
  {
   "cell_type": "code",
   "execution_count": 19,
   "id": "f0bd622c",
   "metadata": {},
   "outputs": [
    {
     "data": {
      "text/html": [
       "<table class=\"dataframe\">\n",
       "<caption>A tibble: 303 × 15</caption>\n",
       "<thead>\n",
       "\t<tr><th scope=col>patient_number</th><th scope=col>age</th><th scope=col>sex</th><th scope=col>cp</th><th scope=col>trestbpd</th><th scope=col>chol</th><th scope=col>fbs</th><th scope=col>restecg</th><th scope=col>thalach</th><th scope=col>exang</th><th scope=col>oldpeak</th><th scope=col>slope</th><th scope=col>ca</th><th scope=col>thal</th><th scope=col>num</th></tr>\n",
       "\t<tr><th scope=col>&lt;int&gt;</th><th scope=col>&lt;dbl&gt;</th><th scope=col>&lt;dbl&gt;</th><th scope=col>&lt;dbl&gt;</th><th scope=col>&lt;dbl&gt;</th><th scope=col>&lt;dbl&gt;</th><th scope=col>&lt;dbl&gt;</th><th scope=col>&lt;dbl&gt;</th><th scope=col>&lt;dbl&gt;</th><th scope=col>&lt;dbl&gt;</th><th scope=col>&lt;dbl&gt;</th><th scope=col>&lt;dbl&gt;</th><th scope=col>&lt;chr&gt;</th><th scope=col>&lt;chr&gt;</th><th scope=col>&lt;dbl&gt;</th></tr>\n",
       "</thead>\n",
       "<tbody>\n",
       "\t<tr><td>1</td><td>63</td><td>1</td><td>1</td><td>145</td><td>233</td><td>1</td><td>2</td><td>150</td><td>0</td><td>2.3</td><td>3</td><td>0.0</td><td>6.0</td><td>0</td></tr>\n",
       "\t<tr><td>2</td><td>67</td><td>1</td><td>4</td><td>160</td><td>286</td><td>0</td><td>2</td><td>108</td><td>1</td><td>1.5</td><td>2</td><td>3.0</td><td>3.0</td><td>2</td></tr>\n",
       "\t<tr><td>3</td><td>67</td><td>1</td><td>4</td><td>120</td><td>229</td><td>0</td><td>2</td><td>129</td><td>1</td><td>2.6</td><td>2</td><td>2.0</td><td>7.0</td><td>1</td></tr>\n",
       "\t<tr><td>⋮</td><td>⋮</td><td>⋮</td><td>⋮</td><td>⋮</td><td>⋮</td><td>⋮</td><td>⋮</td><td>⋮</td><td>⋮</td><td>⋮</td><td>⋮</td><td>⋮</td><td>⋮</td><td>⋮</td></tr>\n",
       "\t<tr><td>301</td><td>57</td><td>1</td><td>4</td><td>130</td><td>131</td><td>0</td><td>0</td><td>115</td><td>1</td><td>1.2</td><td>2</td><td>1.0</td><td>7.0</td><td>3</td></tr>\n",
       "\t<tr><td>302</td><td>57</td><td>0</td><td>2</td><td>130</td><td>236</td><td>0</td><td>2</td><td>174</td><td>0</td><td>0.0</td><td>2</td><td>1.0</td><td>3.0</td><td>1</td></tr>\n",
       "\t<tr><td>303</td><td>38</td><td>1</td><td>3</td><td>138</td><td>175</td><td>0</td><td>0</td><td>173</td><td>0</td><td>0.0</td><td>1</td><td>?  </td><td>3.0</td><td>0</td></tr>\n",
       "</tbody>\n",
       "</table>\n"
      ],
      "text/latex": [
       "A tibble: 303 × 15\n",
       "\\begin{tabular}{lllllllllllllll}\n",
       " patient\\_number & age & sex & cp & trestbpd & chol & fbs & restecg & thalach & exang & oldpeak & slope & ca & thal & num\\\\\n",
       " <int> & <dbl> & <dbl> & <dbl> & <dbl> & <dbl> & <dbl> & <dbl> & <dbl> & <dbl> & <dbl> & <dbl> & <chr> & <chr> & <dbl>\\\\\n",
       "\\hline\n",
       "\t 1 & 63 & 1 & 1 & 145 & 233 & 1 & 2 & 150 & 0 & 2.3 & 3 & 0.0 & 6.0 & 0\\\\\n",
       "\t 2 & 67 & 1 & 4 & 160 & 286 & 0 & 2 & 108 & 1 & 1.5 & 2 & 3.0 & 3.0 & 2\\\\\n",
       "\t 3 & 67 & 1 & 4 & 120 & 229 & 0 & 2 & 129 & 1 & 2.6 & 2 & 2.0 & 7.0 & 1\\\\\n",
       "\t ⋮ & ⋮ & ⋮ & ⋮ & ⋮ & ⋮ & ⋮ & ⋮ & ⋮ & ⋮ & ⋮ & ⋮ & ⋮ & ⋮ & ⋮\\\\\n",
       "\t 301 & 57 & 1 & 4 & 130 & 131 & 0 & 0 & 115 & 1 & 1.2 & 2 & 1.0 & 7.0 & 3\\\\\n",
       "\t 302 & 57 & 0 & 2 & 130 & 236 & 0 & 2 & 174 & 0 & 0.0 & 2 & 1.0 & 3.0 & 1\\\\\n",
       "\t 303 & 38 & 1 & 3 & 138 & 175 & 0 & 0 & 173 & 0 & 0.0 & 1 & ?   & 3.0 & 0\\\\\n",
       "\\end{tabular}\n"
      ],
      "text/markdown": [
       "\n",
       "A tibble: 303 × 15\n",
       "\n",
       "| patient_number &lt;int&gt; | age &lt;dbl&gt; | sex &lt;dbl&gt; | cp &lt;dbl&gt; | trestbpd &lt;dbl&gt; | chol &lt;dbl&gt; | fbs &lt;dbl&gt; | restecg &lt;dbl&gt; | thalach &lt;dbl&gt; | exang &lt;dbl&gt; | oldpeak &lt;dbl&gt; | slope &lt;dbl&gt; | ca &lt;chr&gt; | thal &lt;chr&gt; | num &lt;dbl&gt; |\n",
       "|---|---|---|---|---|---|---|---|---|---|---|---|---|---|---|\n",
       "| 1 | 63 | 1 | 1 | 145 | 233 | 1 | 2 | 150 | 0 | 2.3 | 3 | 0.0 | 6.0 | 0 |\n",
       "| 2 | 67 | 1 | 4 | 160 | 286 | 0 | 2 | 108 | 1 | 1.5 | 2 | 3.0 | 3.0 | 2 |\n",
       "| 3 | 67 | 1 | 4 | 120 | 229 | 0 | 2 | 129 | 1 | 2.6 | 2 | 2.0 | 7.0 | 1 |\n",
       "| ⋮ | ⋮ | ⋮ | ⋮ | ⋮ | ⋮ | ⋮ | ⋮ | ⋮ | ⋮ | ⋮ | ⋮ | ⋮ | ⋮ | ⋮ |\n",
       "| 301 | 57 | 1 | 4 | 130 | 131 | 0 | 0 | 115 | 1 | 1.2 | 2 | 1.0 | 7.0 | 3 |\n",
       "| 302 | 57 | 0 | 2 | 130 | 236 | 0 | 2 | 174 | 0 | 0.0 | 2 | 1.0 | 3.0 | 1 |\n",
       "| 303 | 38 | 1 | 3 | 138 | 175 | 0 | 0 | 173 | 0 | 0.0 | 1 | ?   | 3.0 | 0 |\n",
       "\n"
      ],
      "text/plain": [
       "    patient_number age sex cp trestbpd chol fbs restecg thalach exang oldpeak\n",
       "1   1              63  1   1  145      233  1   2       150     0     2.3    \n",
       "2   2              67  1   4  160      286  0   2       108     1     1.5    \n",
       "3   3              67  1   4  120      229  0   2       129     1     2.6    \n",
       "⋮   ⋮              ⋮   ⋮   ⋮  ⋮        ⋮    ⋮   ⋮       ⋮       ⋮     ⋮      \n",
       "301 301            57  1   4  130      131  0   0       115     1     1.2    \n",
       "302 302            57  0   2  130      236  0   2       174     0     0.0    \n",
       "303 303            38  1   3  138      175  0   0       173     0     0.0    \n",
       "    slope ca  thal num\n",
       "1   3     0.0 6.0  0  \n",
       "2   2     3.0 3.0  2  \n",
       "3   2     2.0 7.0  1  \n",
       "⋮   ⋮     ⋮   ⋮    ⋮  \n",
       "301 2     1.0 7.0  3  \n",
       "302 2     1.0 3.0  1  \n",
       "303 1     ?   3.0  0  "
      ]
     },
     "metadata": {},
     "output_type": "display_data"
    }
   ],
   "source": [
    "# Now let's add a new column that includes the number of patients.\n",
    "heart_disease_data <- heart_disease_data |>\n",
    "  mutate(patient_number = row_number()) |>\n",
    "  select(patient_number, everything())\n",
    "heart_disease_data"
   ]
  },
  {
   "cell_type": "code",
   "execution_count": 20,
   "id": "8a0a5b0e",
   "metadata": {},
   "outputs": [
    {
     "data": {
      "text/html": [
       "<table class=\"dataframe\">\n",
       "<caption>A tibble: 303 × 4</caption>\n",
       "<thead>\n",
       "\t<tr><th scope=col>patient_number</th><th scope=col>trestbpd</th><th scope=col>exang</th><th scope=col>num</th></tr>\n",
       "\t<tr><th scope=col>&lt;int&gt;</th><th scope=col>&lt;dbl&gt;</th><th scope=col>&lt;dbl&gt;</th><th scope=col>&lt;dbl&gt;</th></tr>\n",
       "</thead>\n",
       "<tbody>\n",
       "\t<tr><td>1</td><td>145</td><td>0</td><td>0</td></tr>\n",
       "\t<tr><td>2</td><td>160</td><td>1</td><td>2</td></tr>\n",
       "\t<tr><td>3</td><td>120</td><td>1</td><td>1</td></tr>\n",
       "\t<tr><td>⋮</td><td>⋮</td><td>⋮</td><td>⋮</td></tr>\n",
       "\t<tr><td>301</td><td>130</td><td>1</td><td>3</td></tr>\n",
       "\t<tr><td>302</td><td>130</td><td>0</td><td>1</td></tr>\n",
       "\t<tr><td>303</td><td>138</td><td>0</td><td>0</td></tr>\n",
       "</tbody>\n",
       "</table>\n"
      ],
      "text/latex": [
       "A tibble: 303 × 4\n",
       "\\begin{tabular}{llll}\n",
       " patient\\_number & trestbpd & exang & num\\\\\n",
       " <int> & <dbl> & <dbl> & <dbl>\\\\\n",
       "\\hline\n",
       "\t 1 & 145 & 0 & 0\\\\\n",
       "\t 2 & 160 & 1 & 2\\\\\n",
       "\t 3 & 120 & 1 & 1\\\\\n",
       "\t ⋮ & ⋮ & ⋮ & ⋮\\\\\n",
       "\t 301 & 130 & 1 & 3\\\\\n",
       "\t 302 & 130 & 0 & 1\\\\\n",
       "\t 303 & 138 & 0 & 0\\\\\n",
       "\\end{tabular}\n"
      ],
      "text/markdown": [
       "\n",
       "A tibble: 303 × 4\n",
       "\n",
       "| patient_number &lt;int&gt; | trestbpd &lt;dbl&gt; | exang &lt;dbl&gt; | num &lt;dbl&gt; |\n",
       "|---|---|---|---|\n",
       "| 1 | 145 | 0 | 0 |\n",
       "| 2 | 160 | 1 | 2 |\n",
       "| 3 | 120 | 1 | 1 |\n",
       "| ⋮ | ⋮ | ⋮ | ⋮ |\n",
       "| 301 | 130 | 1 | 3 |\n",
       "| 302 | 130 | 0 | 1 |\n",
       "| 303 | 138 | 0 | 0 |\n",
       "\n"
      ],
      "text/plain": [
       "    patient_number trestbpd exang num\n",
       "1   1              145      0     0  \n",
       "2   2              160      1     2  \n",
       "3   3              120      1     1  \n",
       "⋮   ⋮              ⋮        ⋮     ⋮  \n",
       "301 301            130      1     3  \n",
       "302 302            130      0     1  \n",
       "303 303            138      0     0  "
      ]
     },
     "metadata": {},
     "output_type": "display_data"
    }
   ],
   "source": [
    "# We will use the select function to keep only the variables trestbps (#4) the  and cholesterol (#5), \n",
    "# and num (#14) the predicted heart disease outcome.\n",
    "filtered_heart_disease_data <- heart_disease_data |>\n",
    "  select(1, 5, 10, 15)\n",
    "filtered_heart_disease_data"
   ]
  },
  {
   "cell_type": "code",
   "execution_count": null,
   "id": "6db06802-1954-48f0-b6e0-380a9276cb0d",
   "metadata": {},
   "outputs": [],
   "source": []
  },
  {
   "cell_type": "code",
   "execution_count": 21,
   "id": "a7642624",
   "metadata": {},
   "outputs": [
    {
     "data": {
      "text/html": [
       "<table class=\"dataframe\">\n",
       "<caption>A tibble: 303 × 4</caption>\n",
       "<thead>\n",
       "\t<tr><th scope=col>patient_number</th><th scope=col>trestbpd</th><th scope=col>exang</th><th scope=col>num</th></tr>\n",
       "\t<tr><th scope=col>&lt;int&gt;</th><th scope=col>&lt;dbl&gt;</th><th scope=col>&lt;dbl&gt;</th><th scope=col>&lt;dbl&gt;</th></tr>\n",
       "</thead>\n",
       "<tbody>\n",
       "\t<tr><td>1</td><td>145</td><td>0</td><td>0</td></tr>\n",
       "\t<tr><td>2</td><td>160</td><td>1</td><td>1</td></tr>\n",
       "\t<tr><td>3</td><td>120</td><td>1</td><td>1</td></tr>\n",
       "\t<tr><td>⋮</td><td>⋮</td><td>⋮</td><td>⋮</td></tr>\n",
       "\t<tr><td>301</td><td>130</td><td>1</td><td>1</td></tr>\n",
       "\t<tr><td>302</td><td>130</td><td>0</td><td>1</td></tr>\n",
       "\t<tr><td>303</td><td>138</td><td>0</td><td>0</td></tr>\n",
       "</tbody>\n",
       "</table>\n"
      ],
      "text/latex": [
       "A tibble: 303 × 4\n",
       "\\begin{tabular}{llll}\n",
       " patient\\_number & trestbpd & exang & num\\\\\n",
       " <int> & <dbl> & <dbl> & <dbl>\\\\\n",
       "\\hline\n",
       "\t 1 & 145 & 0 & 0\\\\\n",
       "\t 2 & 160 & 1 & 1\\\\\n",
       "\t 3 & 120 & 1 & 1\\\\\n",
       "\t ⋮ & ⋮ & ⋮ & ⋮\\\\\n",
       "\t 301 & 130 & 1 & 1\\\\\n",
       "\t 302 & 130 & 0 & 1\\\\\n",
       "\t 303 & 138 & 0 & 0\\\\\n",
       "\\end{tabular}\n"
      ],
      "text/markdown": [
       "\n",
       "A tibble: 303 × 4\n",
       "\n",
       "| patient_number &lt;int&gt; | trestbpd &lt;dbl&gt; | exang &lt;dbl&gt; | num &lt;dbl&gt; |\n",
       "|---|---|---|---|\n",
       "| 1 | 145 | 0 | 0 |\n",
       "| 2 | 160 | 1 | 1 |\n",
       "| 3 | 120 | 1 | 1 |\n",
       "| ⋮ | ⋮ | ⋮ | ⋮ |\n",
       "| 301 | 130 | 1 | 1 |\n",
       "| 302 | 130 | 0 | 1 |\n",
       "| 303 | 138 | 0 | 0 |\n",
       "\n"
      ],
      "text/plain": [
       "    patient_number trestbpd exang num\n",
       "1   1              145      0     0  \n",
       "2   2              160      1     1  \n",
       "3   3              120      1     1  \n",
       "⋮   ⋮              ⋮        ⋮     ⋮  \n",
       "301 301            130      1     1  \n",
       "302 302            130      0     1  \n",
       "303 303            138      0     0  "
      ]
     },
     "metadata": {},
     "output_type": "display_data"
    }
   ],
   "source": [
    "# We want to change column 14 to be only 0 (no to heart disease) and 1 (1 and above is yes to heart disease)\n",
    "changed_num <- filtered_heart_disease_data |>\n",
    "  mutate(num = ifelse(num >= 1, 1, 0))\n",
    "# remove all row with '?'\n",
    "changed_num_1 <- changed_num |>\n",
    "  filter_all(all_vars(. != \"?\"))\n",
    "changed_num_1"
   ]
  },
  {
   "cell_type": "code",
   "execution_count": 22,
   "id": "f3d13fb2",
   "metadata": {},
   "outputs": [
    {
     "data": {
      "text/html": [
       "<table class=\"dataframe\">\n",
       "<caption>A tibble: 303 × 4</caption>\n",
       "<thead>\n",
       "\t<tr><th scope=col>patient_number</th><th scope=col>trestbpd</th><th scope=col>exang</th><th scope=col>num</th></tr>\n",
       "\t<tr><th scope=col>&lt;int&gt;</th><th scope=col>&lt;dbl&gt;</th><th scope=col>&lt;dbl&gt;</th><th scope=col>&lt;fct&gt;</th></tr>\n",
       "</thead>\n",
       "<tbody>\n",
       "\t<tr><td>1</td><td>145</td><td>0</td><td>0</td></tr>\n",
       "\t<tr><td>2</td><td>160</td><td>1</td><td>1</td></tr>\n",
       "\t<tr><td>3</td><td>120</td><td>1</td><td>1</td></tr>\n",
       "\t<tr><td>⋮</td><td>⋮</td><td>⋮</td><td>⋮</td></tr>\n",
       "\t<tr><td>301</td><td>130</td><td>1</td><td>1</td></tr>\n",
       "\t<tr><td>302</td><td>130</td><td>0</td><td>1</td></tr>\n",
       "\t<tr><td>303</td><td>138</td><td>0</td><td>0</td></tr>\n",
       "</tbody>\n",
       "</table>\n"
      ],
      "text/latex": [
       "A tibble: 303 × 4\n",
       "\\begin{tabular}{llll}\n",
       " patient\\_number & trestbpd & exang & num\\\\\n",
       " <int> & <dbl> & <dbl> & <fct>\\\\\n",
       "\\hline\n",
       "\t 1 & 145 & 0 & 0\\\\\n",
       "\t 2 & 160 & 1 & 1\\\\\n",
       "\t 3 & 120 & 1 & 1\\\\\n",
       "\t ⋮ & ⋮ & ⋮ & ⋮\\\\\n",
       "\t 301 & 130 & 1 & 1\\\\\n",
       "\t 302 & 130 & 0 & 1\\\\\n",
       "\t 303 & 138 & 0 & 0\\\\\n",
       "\\end{tabular}\n"
      ],
      "text/markdown": [
       "\n",
       "A tibble: 303 × 4\n",
       "\n",
       "| patient_number &lt;int&gt; | trestbpd &lt;dbl&gt; | exang &lt;dbl&gt; | num &lt;fct&gt; |\n",
       "|---|---|---|---|\n",
       "| 1 | 145 | 0 | 0 |\n",
       "| 2 | 160 | 1 | 1 |\n",
       "| 3 | 120 | 1 | 1 |\n",
       "| ⋮ | ⋮ | ⋮ | ⋮ |\n",
       "| 301 | 130 | 1 | 1 |\n",
       "| 302 | 130 | 0 | 1 |\n",
       "| 303 | 138 | 0 | 0 |\n",
       "\n"
      ],
      "text/plain": [
       "    patient_number trestbpd exang num\n",
       "1   1              145      0     0  \n",
       "2   2              160      1     1  \n",
       "3   3              120      1     1  \n",
       "⋮   ⋮              ⋮        ⋮     ⋮  \n",
       "301 301            130      1     1  \n",
       "302 302            130      0     1  \n",
       "303 303            138      0     0  "
      ]
     },
     "metadata": {},
     "output_type": "display_data"
    }
   ],
   "source": [
    "# final dataframe \n",
    "final_data_1 <- changed_num_1\n",
    "\n",
    "final_data_1 <- final_data_1 |>\n",
    "    mutate(num = as_factor(num))\n",
    "final_data_1"
   ]
  },
  {
   "cell_type": "code",
   "execution_count": 23,
   "id": "dd8bbeed",
   "metadata": {},
   "outputs": [
    {
     "data": {
      "text/html": [
       "<table class=\"dataframe\">\n",
       "<caption>A tibble: 10 × 4</caption>\n",
       "<thead>\n",
       "\t<tr><th scope=col>patient_number</th><th scope=col>trestbpd</th><th scope=col>exang</th><th scope=col>num</th></tr>\n",
       "\t<tr><th scope=col>&lt;int&gt;</th><th scope=col>&lt;dbl&gt;</th><th scope=col>&lt;dbl&gt;</th><th scope=col>&lt;fct&gt;</th></tr>\n",
       "</thead>\n",
       "<tbody>\n",
       "\t<tr><td>1</td><td>145</td><td>0</td><td>0</td></tr>\n",
       "\t<tr><td>2</td><td>160</td><td>1</td><td>1</td></tr>\n",
       "\t<tr><td>3</td><td>120</td><td>1</td><td>1</td></tr>\n",
       "\t<tr><td>⋮</td><td>⋮</td><td>⋮</td><td>⋮</td></tr>\n",
       "\t<tr><td> 8</td><td>120</td><td>1</td><td>0</td></tr>\n",
       "\t<tr><td> 9</td><td>130</td><td>0</td><td>1</td></tr>\n",
       "\t<tr><td>10</td><td>140</td><td>1</td><td>1</td></tr>\n",
       "</tbody>\n",
       "</table>\n"
      ],
      "text/latex": [
       "A tibble: 10 × 4\n",
       "\\begin{tabular}{llll}\n",
       " patient\\_number & trestbpd & exang & num\\\\\n",
       " <int> & <dbl> & <dbl> & <fct>\\\\\n",
       "\\hline\n",
       "\t 1 & 145 & 0 & 0\\\\\n",
       "\t 2 & 160 & 1 & 1\\\\\n",
       "\t 3 & 120 & 1 & 1\\\\\n",
       "\t ⋮ & ⋮ & ⋮ & ⋮\\\\\n",
       "\t  8 & 120 & 1 & 0\\\\\n",
       "\t  9 & 130 & 0 & 1\\\\\n",
       "\t 10 & 140 & 1 & 1\\\\\n",
       "\\end{tabular}\n"
      ],
      "text/markdown": [
       "\n",
       "A tibble: 10 × 4\n",
       "\n",
       "| patient_number &lt;int&gt; | trestbpd &lt;dbl&gt; | exang &lt;dbl&gt; | num &lt;fct&gt; |\n",
       "|---|---|---|---|\n",
       "| 1 | 145 | 0 | 0 |\n",
       "| 2 | 160 | 1 | 1 |\n",
       "| 3 | 120 | 1 | 1 |\n",
       "| ⋮ | ⋮ | ⋮ | ⋮ |\n",
       "|  8 | 120 | 1 | 0 |\n",
       "|  9 | 130 | 0 | 1 |\n",
       "| 10 | 140 | 1 | 1 |\n",
       "\n"
      ],
      "text/plain": [
       "   patient_number trestbpd exang num\n",
       "1  1              145      0     0  \n",
       "2  2              160      1     1  \n",
       "3  3              120      1     1  \n",
       "⋮  ⋮              ⋮        ⋮     ⋮  \n",
       "8   8             120      1     0  \n",
       "9   9             130      0     1  \n",
       "10 10             140      1     1  "
      ]
     },
     "metadata": {},
     "output_type": "display_data"
    },
    {
     "data": {
      "text/html": [
       "<table class=\"dataframe\">\n",
       "<caption>A tibble: 303 × 4</caption>\n",
       "<thead>\n",
       "\t<tr><th scope=col>patient_number</th><th scope=col>trestbpd</th><th scope=col>exang</th><th scope=col>num</th></tr>\n",
       "\t<tr><th scope=col>&lt;int&gt;</th><th scope=col>&lt;dbl&gt;</th><th scope=col>&lt;dbl&gt;</th><th scope=col>&lt;fct&gt;</th></tr>\n",
       "</thead>\n",
       "<tbody>\n",
       "\t<tr><td>1</td><td>145</td><td>0</td><td>0</td></tr>\n",
       "\t<tr><td>2</td><td>160</td><td>1</td><td>1</td></tr>\n",
       "\t<tr><td>3</td><td>120</td><td>1</td><td>1</td></tr>\n",
       "\t<tr><td>⋮</td><td>⋮</td><td>⋮</td><td>⋮</td></tr>\n",
       "\t<tr><td>301</td><td>130</td><td>1</td><td>1</td></tr>\n",
       "\t<tr><td>302</td><td>130</td><td>0</td><td>1</td></tr>\n",
       "\t<tr><td>303</td><td>138</td><td>0</td><td>0</td></tr>\n",
       "</tbody>\n",
       "</table>\n"
      ],
      "text/latex": [
       "A tibble: 303 × 4\n",
       "\\begin{tabular}{llll}\n",
       " patient\\_number & trestbpd & exang & num\\\\\n",
       " <int> & <dbl> & <dbl> & <fct>\\\\\n",
       "\\hline\n",
       "\t 1 & 145 & 0 & 0\\\\\n",
       "\t 2 & 160 & 1 & 1\\\\\n",
       "\t 3 & 120 & 1 & 1\\\\\n",
       "\t ⋮ & ⋮ & ⋮ & ⋮\\\\\n",
       "\t 301 & 130 & 1 & 1\\\\\n",
       "\t 302 & 130 & 0 & 1\\\\\n",
       "\t 303 & 138 & 0 & 0\\\\\n",
       "\\end{tabular}\n"
      ],
      "text/markdown": [
       "\n",
       "A tibble: 303 × 4\n",
       "\n",
       "| patient_number &lt;int&gt; | trestbpd &lt;dbl&gt; | exang &lt;dbl&gt; | num &lt;fct&gt; |\n",
       "|---|---|---|---|\n",
       "| 1 | 145 | 0 | 0 |\n",
       "| 2 | 160 | 1 | 1 |\n",
       "| 3 | 120 | 1 | 1 |\n",
       "| ⋮ | ⋮ | ⋮ | ⋮ |\n",
       "| 301 | 130 | 1 | 1 |\n",
       "| 302 | 130 | 0 | 1 |\n",
       "| 303 | 138 | 0 | 0 |\n",
       "\n"
      ],
      "text/plain": [
       "    patient_number trestbpd exang num\n",
       "1   1              145      0     0  \n",
       "2   2              160      1     1  \n",
       "3   3              120      1     1  \n",
       "⋮   ⋮              ⋮        ⋮     ⋮  \n",
       "301 301            130      1     1  \n",
       "302 302            130      0     1  \n",
       "303 303            138      0     0  "
      ]
     },
     "metadata": {},
     "output_type": "display_data"
    }
   ],
   "source": [
    "# shows\n",
    "head(final_data_1,10)\n",
    "trestbpd_dbl <- final_data_1 |>\n",
    "    mutate(trestbpd = as.numeric(trestbpd))\n",
    "\n",
    "final_data_2 <- trestbpd_dbl |>\n",
    "    mutate(exang = as.numeric(exang))\n",
    "final_data_2"
   ]
  },
  {
   "cell_type": "code",
   "execution_count": 24,
   "id": "4a4ab09b-577b-43ce-8f15-947f2700b9c2",
   "metadata": {},
   "outputs": [
    {
     "data": {
      "text/html": [
       "<table class=\"dataframe\">\n",
       "<caption>A tibble: 227 × 4</caption>\n",
       "<thead>\n",
       "\t<tr><th scope=col>patient_number</th><th scope=col>trestbpd</th><th scope=col>exang</th><th scope=col>num</th></tr>\n",
       "\t<tr><th scope=col>&lt;int&gt;</th><th scope=col>&lt;dbl&gt;</th><th scope=col>&lt;dbl&gt;</th><th scope=col>&lt;fct&gt;</th></tr>\n",
       "</thead>\n",
       "<tbody>\n",
       "\t<tr><td>1</td><td>145</td><td>0</td><td>0</td></tr>\n",
       "\t<tr><td>4</td><td>130</td><td>0</td><td>0</td></tr>\n",
       "\t<tr><td>5</td><td>130</td><td>0</td><td>0</td></tr>\n",
       "\t<tr><td>⋮</td><td>⋮</td><td>⋮</td><td>⋮</td></tr>\n",
       "\t<tr><td>298</td><td>140</td><td>1</td><td>1</td></tr>\n",
       "\t<tr><td>299</td><td>110</td><td>0</td><td>1</td></tr>\n",
       "\t<tr><td>301</td><td>130</td><td>1</td><td>1</td></tr>\n",
       "</tbody>\n",
       "</table>\n"
      ],
      "text/latex": [
       "A tibble: 227 × 4\n",
       "\\begin{tabular}{llll}\n",
       " patient\\_number & trestbpd & exang & num\\\\\n",
       " <int> & <dbl> & <dbl> & <fct>\\\\\n",
       "\\hline\n",
       "\t 1 & 145 & 0 & 0\\\\\n",
       "\t 4 & 130 & 0 & 0\\\\\n",
       "\t 5 & 130 & 0 & 0\\\\\n",
       "\t ⋮ & ⋮ & ⋮ & ⋮\\\\\n",
       "\t 298 & 140 & 1 & 1\\\\\n",
       "\t 299 & 110 & 0 & 1\\\\\n",
       "\t 301 & 130 & 1 & 1\\\\\n",
       "\\end{tabular}\n"
      ],
      "text/markdown": [
       "\n",
       "A tibble: 227 × 4\n",
       "\n",
       "| patient_number &lt;int&gt; | trestbpd &lt;dbl&gt; | exang &lt;dbl&gt; | num &lt;fct&gt; |\n",
       "|---|---|---|---|\n",
       "| 1 | 145 | 0 | 0 |\n",
       "| 4 | 130 | 0 | 0 |\n",
       "| 5 | 130 | 0 | 0 |\n",
       "| ⋮ | ⋮ | ⋮ | ⋮ |\n",
       "| 298 | 140 | 1 | 1 |\n",
       "| 299 | 110 | 0 | 1 |\n",
       "| 301 | 130 | 1 | 1 |\n",
       "\n"
      ],
      "text/plain": [
       "    patient_number trestbpd exang num\n",
       "1   1              145      0     0  \n",
       "2   4              130      0     0  \n",
       "3   5              130      0     0  \n",
       "⋮   ⋮              ⋮        ⋮     ⋮  \n",
       "225 298            140      1     1  \n",
       "226 299            110      0     1  \n",
       "227 301            130      1     1  "
      ]
     },
     "metadata": {},
     "output_type": "display_data"
    },
    {
     "data": {
      "text/html": [
       "<table class=\"dataframe\">\n",
       "<caption>A tibble: 76 × 4</caption>\n",
       "<thead>\n",
       "\t<tr><th scope=col>patient_number</th><th scope=col>trestbpd</th><th scope=col>exang</th><th scope=col>num</th></tr>\n",
       "\t<tr><th scope=col>&lt;int&gt;</th><th scope=col>&lt;dbl&gt;</th><th scope=col>&lt;dbl&gt;</th><th scope=col>&lt;fct&gt;</th></tr>\n",
       "</thead>\n",
       "<tbody>\n",
       "\t<tr><td>2</td><td>160</td><td>1</td><td>1</td></tr>\n",
       "\t<tr><td>8</td><td>120</td><td>1</td><td>0</td></tr>\n",
       "\t<tr><td>9</td><td>130</td><td>0</td><td>1</td></tr>\n",
       "\t<tr><td>⋮</td><td>⋮</td><td>⋮</td><td>⋮</td></tr>\n",
       "\t<tr><td>300</td><td>144</td><td>0</td><td>1</td></tr>\n",
       "\t<tr><td>302</td><td>130</td><td>0</td><td>1</td></tr>\n",
       "\t<tr><td>303</td><td>138</td><td>0</td><td>0</td></tr>\n",
       "</tbody>\n",
       "</table>\n"
      ],
      "text/latex": [
       "A tibble: 76 × 4\n",
       "\\begin{tabular}{llll}\n",
       " patient\\_number & trestbpd & exang & num\\\\\n",
       " <int> & <dbl> & <dbl> & <fct>\\\\\n",
       "\\hline\n",
       "\t 2 & 160 & 1 & 1\\\\\n",
       "\t 8 & 120 & 1 & 0\\\\\n",
       "\t 9 & 130 & 0 & 1\\\\\n",
       "\t ⋮ & ⋮ & ⋮ & ⋮\\\\\n",
       "\t 300 & 144 & 0 & 1\\\\\n",
       "\t 302 & 130 & 0 & 1\\\\\n",
       "\t 303 & 138 & 0 & 0\\\\\n",
       "\\end{tabular}\n"
      ],
      "text/markdown": [
       "\n",
       "A tibble: 76 × 4\n",
       "\n",
       "| patient_number &lt;int&gt; | trestbpd &lt;dbl&gt; | exang &lt;dbl&gt; | num &lt;fct&gt; |\n",
       "|---|---|---|---|\n",
       "| 2 | 160 | 1 | 1 |\n",
       "| 8 | 120 | 1 | 0 |\n",
       "| 9 | 130 | 0 | 1 |\n",
       "| ⋮ | ⋮ | ⋮ | ⋮ |\n",
       "| 300 | 144 | 0 | 1 |\n",
       "| 302 | 130 | 0 | 1 |\n",
       "| 303 | 138 | 0 | 0 |\n",
       "\n"
      ],
      "text/plain": [
       "   patient_number trestbpd exang num\n",
       "1  2              160      1     1  \n",
       "2  8              120      1     0  \n",
       "3  9              130      0     1  \n",
       "⋮  ⋮              ⋮        ⋮     ⋮  \n",
       "74 300            144      0     1  \n",
       "75 302            130      0     1  \n",
       "76 303            138      0     0  "
      ]
     },
     "metadata": {},
     "output_type": "display_data"
    }
   ],
   "source": [
    "set.seed(9999)\n",
    "\n",
    "heart_disease_split <- initial_split(final_data_2, prop = 0.75, strata = num)\n",
    "heart_disease_training <- training(heart_disease_split)\n",
    "heart_disease_testing <- testing(heart_disease_split)\n",
    "heart_disease_training\n",
    "heart_disease_testing"
   ]
  },
  {
   "cell_type": "code",
   "execution_count": 25,
   "id": "a1d8b696-a825-4868-a001-f6b89f3c9519",
   "metadata": {},
   "outputs": [
    {
     "data": {
      "text/html": [
       "<table class=\"dataframe\">\n",
       "<caption>A psych: 4 × 13</caption>\n",
       "<thead>\n",
       "\t<tr><th></th><th scope=col>vars</th><th scope=col>n</th><th scope=col>mean</th><th scope=col>sd</th><th scope=col>median</th><th scope=col>trimmed</th><th scope=col>mad</th><th scope=col>min</th><th scope=col>max</th><th scope=col>range</th><th scope=col>skew</th><th scope=col>kurtosis</th><th scope=col>se</th></tr>\n",
       "\t<tr><th></th><th scope=col>&lt;int&gt;</th><th scope=col>&lt;dbl&gt;</th><th scope=col>&lt;dbl&gt;</th><th scope=col>&lt;dbl&gt;</th><th scope=col>&lt;dbl&gt;</th><th scope=col>&lt;dbl&gt;</th><th scope=col>&lt;dbl&gt;</th><th scope=col>&lt;dbl&gt;</th><th scope=col>&lt;dbl&gt;</th><th scope=col>&lt;dbl&gt;</th><th scope=col>&lt;dbl&gt;</th><th scope=col>&lt;dbl&gt;</th><th scope=col>&lt;dbl&gt;</th></tr>\n",
       "</thead>\n",
       "<tbody>\n",
       "\t<tr><th scope=row>patient_number</th><td>1</td><td>227</td><td>150.6343612</td><td>86.0285159</td><td>153</td><td>150.7377049</td><td>108.2298</td><td> 1</td><td>301</td><td>300</td><td>-0.03128286</td><td>-1.1991285</td><td>5.70991314</td></tr>\n",
       "\t<tr><th scope=row>trestbpd</th><td>2</td><td>227</td><td>131.7973568</td><td>18.1557517</td><td>130</td><td>130.5464481</td><td> 14.8260</td><td>94</td><td>200</td><td>106</td><td> 0.72722291</td><td> 0.9437541</td><td>1.20503957</td></tr>\n",
       "\t<tr><th scope=row>exang</th><td>3</td><td>227</td><td>  0.3480176</td><td> 0.4773943</td><td>  0</td><td>  0.3114754</td><td>  0.0000</td><td> 0</td><td>  1</td><td>  1</td><td> 0.63391140</td><td>-1.6051694</td><td>0.03168577</td></tr>\n",
       "\t<tr><th scope=row>num*</th><td>4</td><td>227</td><td>  1.4581498</td><td> 0.4993466</td><td>  1</td><td>  1.4480874</td><td>  0.0000</td><td> 1</td><td>  2</td><td>  1</td><td> 0.16688152</td><td>-1.9808185</td><td>0.03314280</td></tr>\n",
       "</tbody>\n",
       "</table>\n"
      ],
      "text/latex": [
       "A psych: 4 × 13\n",
       "\\begin{tabular}{r|lllllllllllll}\n",
       "  & vars & n & mean & sd & median & trimmed & mad & min & max & range & skew & kurtosis & se\\\\\n",
       "  & <int> & <dbl> & <dbl> & <dbl> & <dbl> & <dbl> & <dbl> & <dbl> & <dbl> & <dbl> & <dbl> & <dbl> & <dbl>\\\\\n",
       "\\hline\n",
       "\tpatient\\_number & 1 & 227 & 150.6343612 & 86.0285159 & 153 & 150.7377049 & 108.2298 &  1 & 301 & 300 & -0.03128286 & -1.1991285 & 5.70991314\\\\\n",
       "\ttrestbpd & 2 & 227 & 131.7973568 & 18.1557517 & 130 & 130.5464481 &  14.8260 & 94 & 200 & 106 &  0.72722291 &  0.9437541 & 1.20503957\\\\\n",
       "\texang & 3 & 227 &   0.3480176 &  0.4773943 &   0 &   0.3114754 &   0.0000 &  0 &   1 &   1 &  0.63391140 & -1.6051694 & 0.03168577\\\\\n",
       "\tnum* & 4 & 227 &   1.4581498 &  0.4993466 &   1 &   1.4480874 &   0.0000 &  1 &   2 &   1 &  0.16688152 & -1.9808185 & 0.03314280\\\\\n",
       "\\end{tabular}\n"
      ],
      "text/markdown": [
       "\n",
       "A psych: 4 × 13\n",
       "\n",
       "| <!--/--> | vars &lt;int&gt; | n &lt;dbl&gt; | mean &lt;dbl&gt; | sd &lt;dbl&gt; | median &lt;dbl&gt; | trimmed &lt;dbl&gt; | mad &lt;dbl&gt; | min &lt;dbl&gt; | max &lt;dbl&gt; | range &lt;dbl&gt; | skew &lt;dbl&gt; | kurtosis &lt;dbl&gt; | se &lt;dbl&gt; |\n",
       "|---|---|---|---|---|---|---|---|---|---|---|---|---|---|\n",
       "| patient_number | 1 | 227 | 150.6343612 | 86.0285159 | 153 | 150.7377049 | 108.2298 |  1 | 301 | 300 | -0.03128286 | -1.1991285 | 5.70991314 |\n",
       "| trestbpd | 2 | 227 | 131.7973568 | 18.1557517 | 130 | 130.5464481 |  14.8260 | 94 | 200 | 106 |  0.72722291 |  0.9437541 | 1.20503957 |\n",
       "| exang | 3 | 227 |   0.3480176 |  0.4773943 |   0 |   0.3114754 |   0.0000 |  0 |   1 |   1 |  0.63391140 | -1.6051694 | 0.03168577 |\n",
       "| num* | 4 | 227 |   1.4581498 |  0.4993466 |   1 |   1.4480874 |   0.0000 |  1 |   2 |   1 |  0.16688152 | -1.9808185 | 0.03314280 |\n",
       "\n"
      ],
      "text/plain": [
       "               vars n   mean        sd         median trimmed     mad      min\n",
       "patient_number 1    227 150.6343612 86.0285159 153    150.7377049 108.2298  1 \n",
       "trestbpd       2    227 131.7973568 18.1557517 130    130.5464481  14.8260 94 \n",
       "exang          3    227   0.3480176  0.4773943   0      0.3114754   0.0000  0 \n",
       "num*           4    227   1.4581498  0.4993466   1      1.4480874   0.0000  1 \n",
       "               max range skew        kurtosis   se        \n",
       "patient_number 301 300   -0.03128286 -1.1991285 5.70991314\n",
       "trestbpd       200 106    0.72722291  0.9437541 1.20503957\n",
       "exang            1   1    0.63391140 -1.6051694 0.03168577\n",
       "num*             2   1    0.16688152 -1.9808185 0.03314280"
      ]
     },
     "metadata": {},
     "output_type": "display_data"
    }
   ],
   "source": [
    "describe(heart_disease_training)"
   ]
  },
  {
   "cell_type": "code",
   "execution_count": 11,
   "id": "d7de578d-c6d3-4c91-82ad-f4a65dbfcdfb",
   "metadata": {},
   "outputs": [
    {
     "name": "stderr",
     "output_type": "stream",
     "text": [
      "Warning message:\n",
      "“Ignoring unknown parameters: binwidth, bins, pad”\n"
     ]
    },
    {
     "data": {
      "image/png": "[encoded data removed]",
      "text/plain": [
       "plot without title"
      ]
     },
     "metadata": {
      "image/png": {
       "height": 420,
       "width": 420
      }
     },
     "output_type": "display_data"
    }
   ],
   "source": [
    "#histogram graph representing whether a patient has heart disease or not categorized based on their resting blood pressure\n",
    "\n",
    "trestbpd_hist <- heart_disease_training |>\n",
    "    ggplot(aes(x = trestbpd, fill = num))+\n",
    "    geom_histogram(stat = \"count\", alpha = 0.5) +\n",
    "    labs(x = \"Resting Blood Pressure (mmHg)\", y = \"Patient Count\", fill = \"Presence or Absence of Heart Disease\")\n",
    "trestbpd_hist"
   ]
  },
  {
   "cell_type": "code",
   "execution_count": null,
   "id": "023975d5-dc05-4e46-ae41-dda4f559a503",
   "metadata": {},
   "outputs": [],
   "source": [
    "#histogram graph representing whether a patient with or without exercise angina has heart disease or not \n",
    "\n",
    "exang_hist <- heart_disease_training |>\n",
    "    ggplot(aes(x = exang, fill = num))+\n",
    "    geom_histogram(stat = \"count\", alpha = 0.5) +\n",
    "    labs(x = \"Exercise Angina\", y = \"Patient Count\", fill = \"Presence or Absence of Heart Disease\")\n",
    "exang_hist"
   ]
  },
  {
   "cell_type": "code",
   "execution_count": null,
   "id": "524ea9d1-463a-440e-8c16-8e3fa165f61c",
   "metadata": {},
   "outputs": [],
   "source": []
  },
  {
   "cell_type": "code",
   "execution_count": null,
   "id": "74623b90-a026-4cda-ab26-960dd2607387",
   "metadata": {},
   "outputs": [],
   "source": []
  },
  {
   "cell_type": "code",
   "execution_count": null,
   "id": "4339bbf8-4707-404d-b2d1-6c95d7fb0de1",
   "metadata": {},
   "outputs": [],
   "source": []
  }
 ],
 "metadata": {
  "kernelspec": {
   "display_name": "R",
   "language": "R",
   "name": "ir"
  },
  "language_info": {
   "codemirror_mode": "r",
   "file_extension": ".r",
   "mimetype": "text/x-r-source",
   "name": "R",
   "pygments_lexer": "r",
   "version": "4.1.3"
  }
 },
 "nbformat": 4,
 "nbformat_minor": 5
}
