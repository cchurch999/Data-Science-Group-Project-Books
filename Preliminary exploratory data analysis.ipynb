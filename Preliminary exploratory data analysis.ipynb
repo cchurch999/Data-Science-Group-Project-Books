{
 "cells": [
  {
   "cell_type": "markdown",
   "id": "9801f23e",
   "metadata": {},
   "source": [
    "## DSCI 100 007 Group 37\n",
    "\n",
    "- #####  Preliminary exploratory data analysis"
   ]
  },
  {
   "cell_type": "code",
   "execution_count": 41,
   "id": "8ee6a795",
   "metadata": {},
   "outputs": [],
   "source": [
    "library(tidyverse)\n",
    "library(ggplot2)\n",
    "library(psych)\n",
    "library(tidymodels)\n",
    "options(repr.matrix.max.rows = 6)\n",
    "library(repr)"
   ]
  },
  {
   "cell_type": "markdown",
   "id": "9e6eebb1",
   "metadata": {},
   "source": [
    "##### Step 1 : read data from url"
   ]
  },
  {
   "cell_type": "code",
   "execution_count": 42,
   "id": "266836e1",
   "metadata": {},
   "outputs": [
    {
     "name": "stderr",
     "output_type": "stream",
     "text": [
      "\u001b[1m\u001b[22mNew names:\n",
      "\u001b[36m•\u001b[39m `1` -> `1...2`\n",
      "\u001b[36m•\u001b[39m `1` -> `1...3`\n",
      "\u001b[36m•\u001b[39m `0` -> `0...5`\n",
      "\u001b[36m•\u001b[39m `?` -> `?...6`\n",
      "\u001b[36m•\u001b[39m `0` -> `0...7`\n",
      "\u001b[36m•\u001b[39m `0` -> `0...9`\n",
      "\u001b[36m•\u001b[39m `1` -> `1...11`\n",
      "\u001b[36m•\u001b[39m `?` -> `?...12`\n",
      "\u001b[36m•\u001b[39m `?` -> `?...13`\n",
      "\u001b[36m•\u001b[39m `1` -> `1...14`\n",
      "\u001b[1mRows: \u001b[22m\u001b[34m122\u001b[39m \u001b[1mColumns: \u001b[22m\u001b[34m14\u001b[39m\n",
      "\u001b[36m──\u001b[39m \u001b[1mColumn specification\u001b[22m \u001b[36m────────────────────────────────────────────────────────\u001b[39m\n",
      "\u001b[1mDelimiter:\u001b[22m \",\"\n",
      "\u001b[31mchr\u001b[39m (9): 95, ?...6, 0...7, 127, 0...9, .7, 1...11, ?...12, ?...13\n",
      "\u001b[32mdbl\u001b[39m (5): 32, 1...2, 1...3, 0...5, 1...14\n",
      "\n",
      "\u001b[36mℹ\u001b[39m Use `spec()` to retrieve the full column specification for this data.\n",
      "\u001b[36mℹ\u001b[39m Specify the column types or set `show_col_types = FALSE` to quiet this message.\n"
     ]
    },
    {
     "data": {
      "text/html": [
       "<table class=\"dataframe\">\n",
       "<caption>A spec_tbl_df: 122 × 14</caption>\n",
       "<thead>\n",
       "\t<tr><th scope=col>32</th><th scope=col>1...2</th><th scope=col>1...3</th><th scope=col>95</th><th scope=col>0...5</th><th scope=col>?...6</th><th scope=col>0...7</th><th scope=col>127</th><th scope=col>0...9</th><th scope=col>.7</th><th scope=col>1...11</th><th scope=col>?...12</th><th scope=col>?...13</th><th scope=col>1...14</th></tr>\n",
       "\t<tr><th scope=col>&lt;dbl&gt;</th><th scope=col>&lt;dbl&gt;</th><th scope=col>&lt;dbl&gt;</th><th scope=col>&lt;chr&gt;</th><th scope=col>&lt;dbl&gt;</th><th scope=col>&lt;chr&gt;</th><th scope=col>&lt;chr&gt;</th><th scope=col>&lt;chr&gt;</th><th scope=col>&lt;chr&gt;</th><th scope=col>&lt;chr&gt;</th><th scope=col>&lt;chr&gt;</th><th scope=col>&lt;chr&gt;</th><th scope=col>&lt;chr&gt;</th><th scope=col>&lt;dbl&gt;</th></tr>\n",
       "</thead>\n",
       "<tbody>\n",
       "\t<tr><td>34</td><td>1</td><td>4</td><td>115</td><td>0</td><td>?</td><td>?</td><td>154</td><td>0</td><td>.2</td><td>1</td><td>?</td><td>?</td><td>1</td></tr>\n",
       "\t<tr><td>35</td><td>1</td><td>4</td><td>?  </td><td>0</td><td>?</td><td>0</td><td>130</td><td>1</td><td>? </td><td>?</td><td>?</td><td>7</td><td>3</td></tr>\n",
       "\t<tr><td>36</td><td>1</td><td>4</td><td>110</td><td>0</td><td>?</td><td>0</td><td>125</td><td>1</td><td>1 </td><td>2</td><td>?</td><td>6</td><td>1</td></tr>\n",
       "\t<tr><td>⋮</td><td>⋮</td><td>⋮</td><td>⋮</td><td>⋮</td><td>⋮</td><td>⋮</td><td>⋮</td><td>⋮</td><td>⋮</td><td>⋮</td><td>⋮</td><td>⋮</td><td>⋮</td></tr>\n",
       "\t<tr><td>72</td><td>1</td><td>3</td><td>160</td><td>0</td><td>?</td><td>2</td><td>114</td><td>0</td><td>1.6</td><td>2</td><td>2</td><td>?</td><td>0</td></tr>\n",
       "\t<tr><td>73</td><td>0</td><td>3</td><td>160</td><td>0</td><td>0</td><td>1</td><td>121</td><td>0</td><td>0  </td><td>1</td><td>?</td><td>3</td><td>1</td></tr>\n",
       "\t<tr><td>74</td><td>1</td><td>2</td><td>145</td><td>0</td><td>?</td><td>1</td><td>123</td><td>0</td><td>1.3</td><td>1</td><td>?</td><td>?</td><td>1</td></tr>\n",
       "</tbody>\n",
       "</table>\n"
      ],
      "text/latex": [
       "A spec\\_tbl\\_df: 122 × 14\n",
       "\\begin{tabular}{llllllllllllll}\n",
       " 32 & 1...2 & 1...3 & 95 & 0...5 & ?...6 & 0...7 & 127 & 0...9 & .7 & 1...11 & ?...12 & ?...13 & 1...14\\\\\n",
       " <dbl> & <dbl> & <dbl> & <chr> & <dbl> & <chr> & <chr> & <chr> & <chr> & <chr> & <chr> & <chr> & <chr> & <dbl>\\\\\n",
       "\\hline\n",
       "\t 34 & 1 & 4 & 115 & 0 & ? & ? & 154 & 0 & .2 & 1 & ? & ? & 1\\\\\n",
       "\t 35 & 1 & 4 & ?   & 0 & ? & 0 & 130 & 1 & ?  & ? & ? & 7 & 3\\\\\n",
       "\t 36 & 1 & 4 & 110 & 0 & ? & 0 & 125 & 1 & 1  & 2 & ? & 6 & 1\\\\\n",
       "\t ⋮ & ⋮ & ⋮ & ⋮ & ⋮ & ⋮ & ⋮ & ⋮ & ⋮ & ⋮ & ⋮ & ⋮ & ⋮ & ⋮\\\\\n",
       "\t 72 & 1 & 3 & 160 & 0 & ? & 2 & 114 & 0 & 1.6 & 2 & 2 & ? & 0\\\\\n",
       "\t 73 & 0 & 3 & 160 & 0 & 0 & 1 & 121 & 0 & 0   & 1 & ? & 3 & 1\\\\\n",
       "\t 74 & 1 & 2 & 145 & 0 & ? & 1 & 123 & 0 & 1.3 & 1 & ? & ? & 1\\\\\n",
       "\\end{tabular}\n"
      ],
      "text/markdown": [
       "\n",
       "A spec_tbl_df: 122 × 14\n",
       "\n",
       "| 32 &lt;dbl&gt; | 1...2 &lt;dbl&gt; | 1...3 &lt;dbl&gt; | 95 &lt;chr&gt; | 0...5 &lt;dbl&gt; | ?...6 &lt;chr&gt; | 0...7 &lt;chr&gt; | 127 &lt;chr&gt; | 0...9 &lt;chr&gt; | .7 &lt;chr&gt; | 1...11 &lt;chr&gt; | ?...12 &lt;chr&gt; | ?...13 &lt;chr&gt; | 1...14 &lt;dbl&gt; |\n",
       "|---|---|---|---|---|---|---|---|---|---|---|---|---|---|\n",
       "| 34 | 1 | 4 | 115 | 0 | ? | ? | 154 | 0 | .2 | 1 | ? | ? | 1 |\n",
       "| 35 | 1 | 4 | ?   | 0 | ? | 0 | 130 | 1 | ?  | ? | ? | 7 | 3 |\n",
       "| 36 | 1 | 4 | 110 | 0 | ? | 0 | 125 | 1 | 1  | 2 | ? | 6 | 1 |\n",
       "| ⋮ | ⋮ | ⋮ | ⋮ | ⋮ | ⋮ | ⋮ | ⋮ | ⋮ | ⋮ | ⋮ | ⋮ | ⋮ | ⋮ |\n",
       "| 72 | 1 | 3 | 160 | 0 | ? | 2 | 114 | 0 | 1.6 | 2 | 2 | ? | 0 |\n",
       "| 73 | 0 | 3 | 160 | 0 | 0 | 1 | 121 | 0 | 0   | 1 | ? | 3 | 1 |\n",
       "| 74 | 1 | 2 | 145 | 0 | ? | 1 | 123 | 0 | 1.3 | 1 | ? | ? | 1 |\n",
       "\n"
      ],
      "text/plain": [
       "    32 1...2 1...3 95  0...5 ?...6 0...7 127 0...9 .7  1...11 ?...12 ?...13\n",
       "1   34 1     4     115 0     ?     ?     154 0     .2  1      ?      ?     \n",
       "2   35 1     4     ?   0     ?     0     130 1     ?   ?      ?      7     \n",
       "3   36 1     4     110 0     ?     0     125 1     1   2      ?      6     \n",
       "⋮   ⋮  ⋮     ⋮     ⋮   ⋮     ⋮     ⋮     ⋮   ⋮     ⋮   ⋮      ⋮      ⋮     \n",
       "120 72 1     3     160 0     ?     2     114 0     1.6 2      2      ?     \n",
       "121 73 0     3     160 0     0     1     121 0     0   1      ?      3     \n",
       "122 74 1     2     145 0     ?     1     123 0     1.3 1      ?      ?     \n",
       "    1...14\n",
       "1   1     \n",
       "2   3     \n",
       "3   1     \n",
       "⋮   ⋮     \n",
       "120 0     \n",
       "121 1     \n",
       "122 1     "
      ]
     },
     "metadata": {},
     "output_type": "display_data"
    }
   ],
   "source": [
    "path <- \"https://archive.ics.uci.edu/ml/machine-learning-databases/heart-disease/processed.switzerland.data\"\n",
    "heart_disease_data <-read_csv(path)\n",
    "heart_disease_data"
   ]
  },
  {
   "cell_type": "markdown",
   "id": "cc29ce64",
   "metadata": {},
   "source": [
    "##### Step 2 : Naming and filtering data"
   ]
  },
  {
   "cell_type": "code",
   "execution_count": 43,
   "id": "c1444664",
   "metadata": {},
   "outputs": [
    {
     "name": "stderr",
     "output_type": "stream",
     "text": [
      "\u001b[1mRows: \u001b[22m\u001b[34m123\u001b[39m \u001b[1mColumns: \u001b[22m\u001b[34m14\u001b[39m\n",
      "\u001b[36m──\u001b[39m \u001b[1mColumn specification\u001b[22m \u001b[36m────────────────────────────────────────────────────────\u001b[39m\n",
      "\u001b[1mDelimiter:\u001b[22m \",\"\n",
      "\u001b[31mchr\u001b[39m (9): X4, X6, X7, X8, X9, X10, X11, X12, X13\n",
      "\u001b[32mdbl\u001b[39m (5): X1, X2, X3, X5, X14\n",
      "\n",
      "\u001b[36mℹ\u001b[39m Use `spec()` to retrieve the full column specification for this data.\n",
      "\u001b[36mℹ\u001b[39m Specify the column types or set `show_col_types = FALSE` to quiet this message.\n"
     ]
    },
    {
     "data": {
      "text/html": [
       "<table class=\"dataframe\">\n",
       "<caption>A spec_tbl_df: 123 × 14</caption>\n",
       "<thead>\n",
       "\t<tr><th scope=col>age</th><th scope=col>sex</th><th scope=col>cp</th><th scope=col>trestbps</th><th scope=col>chol</th><th scope=col>fbs</th><th scope=col>restecg</th><th scope=col>thalach</th><th scope=col>exang</th><th scope=col>oldpeak</th><th scope=col>slope</th><th scope=col>ca</th><th scope=col>thal</th><th scope=col>num</th></tr>\n",
       "\t<tr><th scope=col>&lt;dbl&gt;</th><th scope=col>&lt;dbl&gt;</th><th scope=col>&lt;dbl&gt;</th><th scope=col>&lt;chr&gt;</th><th scope=col>&lt;dbl&gt;</th><th scope=col>&lt;chr&gt;</th><th scope=col>&lt;chr&gt;</th><th scope=col>&lt;chr&gt;</th><th scope=col>&lt;chr&gt;</th><th scope=col>&lt;chr&gt;</th><th scope=col>&lt;chr&gt;</th><th scope=col>&lt;chr&gt;</th><th scope=col>&lt;chr&gt;</th><th scope=col>&lt;dbl&gt;</th></tr>\n",
       "</thead>\n",
       "<tbody>\n",
       "\t<tr><td>32</td><td>1</td><td>1</td><td>95 </td><td>0</td><td>?</td><td>0</td><td>127</td><td>0</td><td>.7</td><td>1</td><td>?</td><td>?</td><td>1</td></tr>\n",
       "\t<tr><td>34</td><td>1</td><td>4</td><td>115</td><td>0</td><td>?</td><td>?</td><td>154</td><td>0</td><td>.2</td><td>1</td><td>?</td><td>?</td><td>1</td></tr>\n",
       "\t<tr><td>35</td><td>1</td><td>4</td><td>?  </td><td>0</td><td>?</td><td>0</td><td>130</td><td>1</td><td>? </td><td>?</td><td>?</td><td>7</td><td>3</td></tr>\n",
       "\t<tr><td>⋮</td><td>⋮</td><td>⋮</td><td>⋮</td><td>⋮</td><td>⋮</td><td>⋮</td><td>⋮</td><td>⋮</td><td>⋮</td><td>⋮</td><td>⋮</td><td>⋮</td><td>⋮</td></tr>\n",
       "\t<tr><td>72</td><td>1</td><td>3</td><td>160</td><td>0</td><td>?</td><td>2</td><td>114</td><td>0</td><td>1.6</td><td>2</td><td>2</td><td>?</td><td>0</td></tr>\n",
       "\t<tr><td>73</td><td>0</td><td>3</td><td>160</td><td>0</td><td>0</td><td>1</td><td>121</td><td>0</td><td>0  </td><td>1</td><td>?</td><td>3</td><td>1</td></tr>\n",
       "\t<tr><td>74</td><td>1</td><td>2</td><td>145</td><td>0</td><td>?</td><td>1</td><td>123</td><td>0</td><td>1.3</td><td>1</td><td>?</td><td>?</td><td>1</td></tr>\n",
       "</tbody>\n",
       "</table>\n"
      ],
      "text/latex": [
       "A spec\\_tbl\\_df: 123 × 14\n",
       "\\begin{tabular}{llllllllllllll}\n",
       " age & sex & cp & trestbps & chol & fbs & restecg & thalach & exang & oldpeak & slope & ca & thal & num\\\\\n",
       " <dbl> & <dbl> & <dbl> & <chr> & <dbl> & <chr> & <chr> & <chr> & <chr> & <chr> & <chr> & <chr> & <chr> & <dbl>\\\\\n",
       "\\hline\n",
       "\t 32 & 1 & 1 & 95  & 0 & ? & 0 & 127 & 0 & .7 & 1 & ? & ? & 1\\\\\n",
       "\t 34 & 1 & 4 & 115 & 0 & ? & ? & 154 & 0 & .2 & 1 & ? & ? & 1\\\\\n",
       "\t 35 & 1 & 4 & ?   & 0 & ? & 0 & 130 & 1 & ?  & ? & ? & 7 & 3\\\\\n",
       "\t ⋮ & ⋮ & ⋮ & ⋮ & ⋮ & ⋮ & ⋮ & ⋮ & ⋮ & ⋮ & ⋮ & ⋮ & ⋮ & ⋮\\\\\n",
       "\t 72 & 1 & 3 & 160 & 0 & ? & 2 & 114 & 0 & 1.6 & 2 & 2 & ? & 0\\\\\n",
       "\t 73 & 0 & 3 & 160 & 0 & 0 & 1 & 121 & 0 & 0   & 1 & ? & 3 & 1\\\\\n",
       "\t 74 & 1 & 2 & 145 & 0 & ? & 1 & 123 & 0 & 1.3 & 1 & ? & ? & 1\\\\\n",
       "\\end{tabular}\n"
      ],
      "text/markdown": [
       "\n",
       "A spec_tbl_df: 123 × 14\n",
       "\n",
       "| age &lt;dbl&gt; | sex &lt;dbl&gt; | cp &lt;dbl&gt; | trestbps &lt;chr&gt; | chol &lt;dbl&gt; | fbs &lt;chr&gt; | restecg &lt;chr&gt; | thalach &lt;chr&gt; | exang &lt;chr&gt; | oldpeak &lt;chr&gt; | slope &lt;chr&gt; | ca &lt;chr&gt; | thal &lt;chr&gt; | num &lt;dbl&gt; |\n",
       "|---|---|---|---|---|---|---|---|---|---|---|---|---|---|\n",
       "| 32 | 1 | 1 | 95  | 0 | ? | 0 | 127 | 0 | .7 | 1 | ? | ? | 1 |\n",
       "| 34 | 1 | 4 | 115 | 0 | ? | ? | 154 | 0 | .2 | 1 | ? | ? | 1 |\n",
       "| 35 | 1 | 4 | ?   | 0 | ? | 0 | 130 | 1 | ?  | ? | ? | 7 | 3 |\n",
       "| ⋮ | ⋮ | ⋮ | ⋮ | ⋮ | ⋮ | ⋮ | ⋮ | ⋮ | ⋮ | ⋮ | ⋮ | ⋮ | ⋮ |\n",
       "| 72 | 1 | 3 | 160 | 0 | ? | 2 | 114 | 0 | 1.6 | 2 | 2 | ? | 0 |\n",
       "| 73 | 0 | 3 | 160 | 0 | 0 | 1 | 121 | 0 | 0   | 1 | ? | 3 | 1 |\n",
       "| 74 | 1 | 2 | 145 | 0 | ? | 1 | 123 | 0 | 1.3 | 1 | ? | ? | 1 |\n",
       "\n"
      ],
      "text/plain": [
       "    age sex cp trestbps chol fbs restecg thalach exang oldpeak slope ca thal\n",
       "1   32  1   1  95       0    ?   0       127     0     .7      1     ?  ?   \n",
       "2   34  1   4  115      0    ?   ?       154     0     .2      1     ?  ?   \n",
       "3   35  1   4  ?        0    ?   0       130     1     ?       ?     ?  7   \n",
       "⋮   ⋮   ⋮   ⋮  ⋮        ⋮    ⋮   ⋮       ⋮       ⋮     ⋮       ⋮     ⋮  ⋮   \n",
       "121 72  1   3  160      0    ?   2       114     0     1.6     2     2  ?   \n",
       "122 73  0   3  160      0    0   1       121     0     0       1     ?  3   \n",
       "123 74  1   2  145      0    ?   1       123     0     1.3     1     ?  ?   \n",
       "    num\n",
       "1   1  \n",
       "2   1  \n",
       "3   3  \n",
       "⋮   ⋮  \n",
       "121 0  \n",
       "122 1  \n",
       "123 1  "
      ]
     },
     "metadata": {},
     "output_type": "display_data"
    }
   ],
   "source": [
    "# Give each column a specific name from given dataset\n",
    "heart_disease_data <- read_csv(path, col_names = FALSE) |> \n",
    "  set_names(c(\"age\", \"sex\", \"cp\", \"trestbps\", \"chol\", \"fbs\", \"restecg\", \"thalach\",\n",
    "              \"exang\", \"oldpeak\", \"slope\", \"ca\", \"thal\", \"num\"))\n",
    "heart_disease_data"
   ]
  },
  {
   "cell_type": "code",
   "execution_count": 44,
   "id": "f0bd622c",
   "metadata": {},
   "outputs": [
    {
     "data": {
      "text/html": [
       "<table class=\"dataframe\">\n",
       "<caption>A tibble: 123 × 15</caption>\n",
       "<thead>\n",
       "\t<tr><th scope=col>patient_number</th><th scope=col>age</th><th scope=col>sex</th><th scope=col>cp</th><th scope=col>trestbps</th><th scope=col>chol</th><th scope=col>fbs</th><th scope=col>restecg</th><th scope=col>thalach</th><th scope=col>exang</th><th scope=col>oldpeak</th><th scope=col>slope</th><th scope=col>ca</th><th scope=col>thal</th><th scope=col>num</th></tr>\n",
       "\t<tr><th scope=col>&lt;int&gt;</th><th scope=col>&lt;dbl&gt;</th><th scope=col>&lt;dbl&gt;</th><th scope=col>&lt;dbl&gt;</th><th scope=col>&lt;chr&gt;</th><th scope=col>&lt;dbl&gt;</th><th scope=col>&lt;chr&gt;</th><th scope=col>&lt;chr&gt;</th><th scope=col>&lt;chr&gt;</th><th scope=col>&lt;chr&gt;</th><th scope=col>&lt;chr&gt;</th><th scope=col>&lt;chr&gt;</th><th scope=col>&lt;chr&gt;</th><th scope=col>&lt;chr&gt;</th><th scope=col>&lt;dbl&gt;</th></tr>\n",
       "</thead>\n",
       "<tbody>\n",
       "\t<tr><td>1</td><td>32</td><td>1</td><td>1</td><td>95 </td><td>0</td><td>?</td><td>0</td><td>127</td><td>0</td><td>.7</td><td>1</td><td>?</td><td>?</td><td>1</td></tr>\n",
       "\t<tr><td>2</td><td>34</td><td>1</td><td>4</td><td>115</td><td>0</td><td>?</td><td>?</td><td>154</td><td>0</td><td>.2</td><td>1</td><td>?</td><td>?</td><td>1</td></tr>\n",
       "\t<tr><td>3</td><td>35</td><td>1</td><td>4</td><td>?  </td><td>0</td><td>?</td><td>0</td><td>130</td><td>1</td><td>? </td><td>?</td><td>?</td><td>7</td><td>3</td></tr>\n",
       "\t<tr><td>⋮</td><td>⋮</td><td>⋮</td><td>⋮</td><td>⋮</td><td>⋮</td><td>⋮</td><td>⋮</td><td>⋮</td><td>⋮</td><td>⋮</td><td>⋮</td><td>⋮</td><td>⋮</td><td>⋮</td></tr>\n",
       "\t<tr><td>121</td><td>72</td><td>1</td><td>3</td><td>160</td><td>0</td><td>?</td><td>2</td><td>114</td><td>0</td><td>1.6</td><td>2</td><td>2</td><td>?</td><td>0</td></tr>\n",
       "\t<tr><td>122</td><td>73</td><td>0</td><td>3</td><td>160</td><td>0</td><td>0</td><td>1</td><td>121</td><td>0</td><td>0  </td><td>1</td><td>?</td><td>3</td><td>1</td></tr>\n",
       "\t<tr><td>123</td><td>74</td><td>1</td><td>2</td><td>145</td><td>0</td><td>?</td><td>1</td><td>123</td><td>0</td><td>1.3</td><td>1</td><td>?</td><td>?</td><td>1</td></tr>\n",
       "</tbody>\n",
       "</table>\n"
      ],
      "text/latex": [
       "A tibble: 123 × 15\n",
       "\\begin{tabular}{lllllllllllllll}\n",
       " patient\\_number & age & sex & cp & trestbps & chol & fbs & restecg & thalach & exang & oldpeak & slope & ca & thal & num\\\\\n",
       " <int> & <dbl> & <dbl> & <dbl> & <chr> & <dbl> & <chr> & <chr> & <chr> & <chr> & <chr> & <chr> & <chr> & <chr> & <dbl>\\\\\n",
       "\\hline\n",
       "\t 1 & 32 & 1 & 1 & 95  & 0 & ? & 0 & 127 & 0 & .7 & 1 & ? & ? & 1\\\\\n",
       "\t 2 & 34 & 1 & 4 & 115 & 0 & ? & ? & 154 & 0 & .2 & 1 & ? & ? & 1\\\\\n",
       "\t 3 & 35 & 1 & 4 & ?   & 0 & ? & 0 & 130 & 1 & ?  & ? & ? & 7 & 3\\\\\n",
       "\t ⋮ & ⋮ & ⋮ & ⋮ & ⋮ & ⋮ & ⋮ & ⋮ & ⋮ & ⋮ & ⋮ & ⋮ & ⋮ & ⋮ & ⋮\\\\\n",
       "\t 121 & 72 & 1 & 3 & 160 & 0 & ? & 2 & 114 & 0 & 1.6 & 2 & 2 & ? & 0\\\\\n",
       "\t 122 & 73 & 0 & 3 & 160 & 0 & 0 & 1 & 121 & 0 & 0   & 1 & ? & 3 & 1\\\\\n",
       "\t 123 & 74 & 1 & 2 & 145 & 0 & ? & 1 & 123 & 0 & 1.3 & 1 & ? & ? & 1\\\\\n",
       "\\end{tabular}\n"
      ],
      "text/markdown": [
       "\n",
       "A tibble: 123 × 15\n",
       "\n",
       "| patient_number &lt;int&gt; | age &lt;dbl&gt; | sex &lt;dbl&gt; | cp &lt;dbl&gt; | trestbps &lt;chr&gt; | chol &lt;dbl&gt; | fbs &lt;chr&gt; | restecg &lt;chr&gt; | thalach &lt;chr&gt; | exang &lt;chr&gt; | oldpeak &lt;chr&gt; | slope &lt;chr&gt; | ca &lt;chr&gt; | thal &lt;chr&gt; | num &lt;dbl&gt; |\n",
       "|---|---|---|---|---|---|---|---|---|---|---|---|---|---|---|\n",
       "| 1 | 32 | 1 | 1 | 95  | 0 | ? | 0 | 127 | 0 | .7 | 1 | ? | ? | 1 |\n",
       "| 2 | 34 | 1 | 4 | 115 | 0 | ? | ? | 154 | 0 | .2 | 1 | ? | ? | 1 |\n",
       "| 3 | 35 | 1 | 4 | ?   | 0 | ? | 0 | 130 | 1 | ?  | ? | ? | 7 | 3 |\n",
       "| ⋮ | ⋮ | ⋮ | ⋮ | ⋮ | ⋮ | ⋮ | ⋮ | ⋮ | ⋮ | ⋮ | ⋮ | ⋮ | ⋮ | ⋮ |\n",
       "| 121 | 72 | 1 | 3 | 160 | 0 | ? | 2 | 114 | 0 | 1.6 | 2 | 2 | ? | 0 |\n",
       "| 122 | 73 | 0 | 3 | 160 | 0 | 0 | 1 | 121 | 0 | 0   | 1 | ? | 3 | 1 |\n",
       "| 123 | 74 | 1 | 2 | 145 | 0 | ? | 1 | 123 | 0 | 1.3 | 1 | ? | ? | 1 |\n",
       "\n"
      ],
      "text/plain": [
       "    patient_number age sex cp trestbps chol fbs restecg thalach exang oldpeak\n",
       "1   1              32  1   1  95       0    ?   0       127     0     .7     \n",
       "2   2              34  1   4  115      0    ?   ?       154     0     .2     \n",
       "3   3              35  1   4  ?        0    ?   0       130     1     ?      \n",
       "⋮   ⋮              ⋮   ⋮   ⋮  ⋮        ⋮    ⋮   ⋮       ⋮       ⋮     ⋮      \n",
       "121 121            72  1   3  160      0    ?   2       114     0     1.6    \n",
       "122 122            73  0   3  160      0    0   1       121     0     0      \n",
       "123 123            74  1   2  145      0    ?   1       123     0     1.3    \n",
       "    slope ca thal num\n",
       "1   1     ?  ?    1  \n",
       "2   1     ?  ?    1  \n",
       "3   ?     ?  7    3  \n",
       "⋮   ⋮     ⋮  ⋮    ⋮  \n",
       "121 2     2  ?    0  \n",
       "122 1     ?  3    1  \n",
       "123 1     ?  ?    1  "
      ]
     },
     "metadata": {},
     "output_type": "display_data"
    }
   ],
   "source": [
    "# Now let's add a new column that includes the number of patients.\n",
    "heart_disease_data <- heart_disease_data %>%\n",
    "  mutate(patient_number = row_number()) %>%\n",
    "  select(patient_number, everything())\n",
    "heart_disease_data"
   ]
  },
  {
   "cell_type": "code",
   "execution_count": 45,
   "id": "8a0a5b0e",
   "metadata": {},
   "outputs": [
    {
     "data": {
      "text/html": [
       "<table class=\"dataframe\">\n",
       "<caption>A tibble: 123 × 4</caption>\n",
       "<thead>\n",
       "\t<tr><th scope=col>patient_number</th><th scope=col>trestbps</th><th scope=col>exang</th><th scope=col>num</th></tr>\n",
       "\t<tr><th scope=col>&lt;int&gt;</th><th scope=col>&lt;chr&gt;</th><th scope=col>&lt;chr&gt;</th><th scope=col>&lt;dbl&gt;</th></tr>\n",
       "</thead>\n",
       "<tbody>\n",
       "\t<tr><td>1</td><td>95 </td><td>0</td><td>1</td></tr>\n",
       "\t<tr><td>2</td><td>115</td><td>0</td><td>1</td></tr>\n",
       "\t<tr><td>3</td><td>?  </td><td>1</td><td>3</td></tr>\n",
       "\t<tr><td>⋮</td><td>⋮</td><td>⋮</td><td>⋮</td></tr>\n",
       "\t<tr><td>121</td><td>160</td><td>0</td><td>0</td></tr>\n",
       "\t<tr><td>122</td><td>160</td><td>0</td><td>1</td></tr>\n",
       "\t<tr><td>123</td><td>145</td><td>0</td><td>1</td></tr>\n",
       "</tbody>\n",
       "</table>\n"
      ],
      "text/latex": [
       "A tibble: 123 × 4\n",
       "\\begin{tabular}{llll}\n",
       " patient\\_number & trestbps & exang & num\\\\\n",
       " <int> & <chr> & <chr> & <dbl>\\\\\n",
       "\\hline\n",
       "\t 1 & 95  & 0 & 1\\\\\n",
       "\t 2 & 115 & 0 & 1\\\\\n",
       "\t 3 & ?   & 1 & 3\\\\\n",
       "\t ⋮ & ⋮ & ⋮ & ⋮\\\\\n",
       "\t 121 & 160 & 0 & 0\\\\\n",
       "\t 122 & 160 & 0 & 1\\\\\n",
       "\t 123 & 145 & 0 & 1\\\\\n",
       "\\end{tabular}\n"
      ],
      "text/markdown": [
       "\n",
       "A tibble: 123 × 4\n",
       "\n",
       "| patient_number &lt;int&gt; | trestbps &lt;chr&gt; | exang &lt;chr&gt; | num &lt;dbl&gt; |\n",
       "|---|---|---|---|\n",
       "| 1 | 95  | 0 | 1 |\n",
       "| 2 | 115 | 0 | 1 |\n",
       "| 3 | ?   | 1 | 3 |\n",
       "| ⋮ | ⋮ | ⋮ | ⋮ |\n",
       "| 121 | 160 | 0 | 0 |\n",
       "| 122 | 160 | 0 | 1 |\n",
       "| 123 | 145 | 0 | 1 |\n",
       "\n"
      ],
      "text/plain": [
       "    patient_number trestbps exang num\n",
       "1   1              95       0     1  \n",
       "2   2              115      0     1  \n",
       "3   3              ?        1     3  \n",
       "⋮   ⋮              ⋮        ⋮     ⋮  \n",
       "121 121            160      0     0  \n",
       "122 122            160      0     1  \n",
       "123 123            145      0     1  "
      ]
     },
     "metadata": {},
     "output_type": "display_data"
    }
   ],
   "source": [
    "# We will use the select function to keep only the variables trestbps (#4) the  and cholesterol (#5), \n",
    "# and num (#14) the predicted heart disease outcome.\n",
    "filltered_heart_disease_data <- heart_disease_data %>%\n",
    "  select(1, 5, 10, 15)\n",
    "filltered_heart_disease_data"
   ]
  },
  {
   "cell_type": "code",
   "execution_count": null,
   "id": "6db06802-1954-48f0-b6e0-380a9276cb0d",
   "metadata": {},
   "outputs": [],
   "source": []
  },
  {
   "cell_type": "code",
   "execution_count": 46,
   "id": "a7642624",
   "metadata": {},
   "outputs": [
    {
     "data": {
      "text/html": [
       "<table class=\"dataframe\">\n",
       "<caption>A tibble: 121 × 4</caption>\n",
       "<thead>\n",
       "\t<tr><th scope=col>patient_number</th><th scope=col>trestbps</th><th scope=col>exang</th><th scope=col>num</th></tr>\n",
       "\t<tr><th scope=col>&lt;int&gt;</th><th scope=col>&lt;chr&gt;</th><th scope=col>&lt;chr&gt;</th><th scope=col>&lt;dbl&gt;</th></tr>\n",
       "</thead>\n",
       "<tbody>\n",
       "\t<tr><td>1</td><td>95 </td><td>0</td><td>1</td></tr>\n",
       "\t<tr><td>2</td><td>115</td><td>0</td><td>1</td></tr>\n",
       "\t<tr><td>4</td><td>110</td><td>1</td><td>1</td></tr>\n",
       "\t<tr><td>⋮</td><td>⋮</td><td>⋮</td><td>⋮</td></tr>\n",
       "\t<tr><td>121</td><td>160</td><td>0</td><td>0</td></tr>\n",
       "\t<tr><td>122</td><td>160</td><td>0</td><td>1</td></tr>\n",
       "\t<tr><td>123</td><td>145</td><td>0</td><td>1</td></tr>\n",
       "</tbody>\n",
       "</table>\n"
      ],
      "text/latex": [
       "A tibble: 121 × 4\n",
       "\\begin{tabular}{llll}\n",
       " patient\\_number & trestbps & exang & num\\\\\n",
       " <int> & <chr> & <chr> & <dbl>\\\\\n",
       "\\hline\n",
       "\t 1 & 95  & 0 & 1\\\\\n",
       "\t 2 & 115 & 0 & 1\\\\\n",
       "\t 4 & 110 & 1 & 1\\\\\n",
       "\t ⋮ & ⋮ & ⋮ & ⋮\\\\\n",
       "\t 121 & 160 & 0 & 0\\\\\n",
       "\t 122 & 160 & 0 & 1\\\\\n",
       "\t 123 & 145 & 0 & 1\\\\\n",
       "\\end{tabular}\n"
      ],
      "text/markdown": [
       "\n",
       "A tibble: 121 × 4\n",
       "\n",
       "| patient_number &lt;int&gt; | trestbps &lt;chr&gt; | exang &lt;chr&gt; | num &lt;dbl&gt; |\n",
       "|---|---|---|---|\n",
       "| 1 | 95  | 0 | 1 |\n",
       "| 2 | 115 | 0 | 1 |\n",
       "| 4 | 110 | 1 | 1 |\n",
       "| ⋮ | ⋮ | ⋮ | ⋮ |\n",
       "| 121 | 160 | 0 | 0 |\n",
       "| 122 | 160 | 0 | 1 |\n",
       "| 123 | 145 | 0 | 1 |\n",
       "\n"
      ],
      "text/plain": [
       "    patient_number trestbps exang num\n",
       "1   1              95       0     1  \n",
       "2   2              115      0     1  \n",
       "3   4              110      1     1  \n",
       "⋮   ⋮              ⋮        ⋮     ⋮  \n",
       "119 121            160      0     0  \n",
       "120 122            160      0     1  \n",
       "121 123            145      0     1  "
      ]
     },
     "metadata": {},
     "output_type": "display_data"
    }
   ],
   "source": [
    "# We want to change column 14 to be only 0 (no to heart disease) and 1 (1 and above is yes to heart disease)\n",
    "changed_num <- filltered_heart_disease_data %>%\n",
    "  mutate(num = ifelse(num >= 1, 1, 0))\n",
    "# remove all row with '?'\n",
    "changed_num_1 <- changed_num |>\n",
    "  filter_all(all_vars(. != \"?\"))\n",
    "changed_num_1"
   ]
  },
  {
   "cell_type": "code",
   "execution_count": 52,
   "id": "f3d13fb2",
   "metadata": {},
   "outputs": [
    {
     "data": {
      "text/html": [
       "<table class=\"dataframe\">\n",
       "<caption>A tibble: 121 × 4</caption>\n",
       "<thead>\n",
       "\t<tr><th scope=col>patient_number</th><th scope=col>trestbps</th><th scope=col>exang</th><th scope=col>num</th></tr>\n",
       "\t<tr><th scope=col>&lt;int&gt;</th><th scope=col>&lt;chr&gt;</th><th scope=col>&lt;chr&gt;</th><th scope=col>&lt;fct&gt;</th></tr>\n",
       "</thead>\n",
       "<tbody>\n",
       "\t<tr><td>1</td><td>95 </td><td>0</td><td>1</td></tr>\n",
       "\t<tr><td>2</td><td>115</td><td>0</td><td>1</td></tr>\n",
       "\t<tr><td>4</td><td>110</td><td>1</td><td>1</td></tr>\n",
       "\t<tr><td>⋮</td><td>⋮</td><td>⋮</td><td>⋮</td></tr>\n",
       "\t<tr><td>121</td><td>160</td><td>0</td><td>0</td></tr>\n",
       "\t<tr><td>122</td><td>160</td><td>0</td><td>1</td></tr>\n",
       "\t<tr><td>123</td><td>145</td><td>0</td><td>1</td></tr>\n",
       "</tbody>\n",
       "</table>\n"
      ],
      "text/latex": [
       "A tibble: 121 × 4\n",
       "\\begin{tabular}{llll}\n",
       " patient\\_number & trestbps & exang & num\\\\\n",
       " <int> & <chr> & <chr> & <fct>\\\\\n",
       "\\hline\n",
       "\t 1 & 95  & 0 & 1\\\\\n",
       "\t 2 & 115 & 0 & 1\\\\\n",
       "\t 4 & 110 & 1 & 1\\\\\n",
       "\t ⋮ & ⋮ & ⋮ & ⋮\\\\\n",
       "\t 121 & 160 & 0 & 0\\\\\n",
       "\t 122 & 160 & 0 & 1\\\\\n",
       "\t 123 & 145 & 0 & 1\\\\\n",
       "\\end{tabular}\n"
      ],
      "text/markdown": [
       "\n",
       "A tibble: 121 × 4\n",
       "\n",
       "| patient_number &lt;int&gt; | trestbps &lt;chr&gt; | exang &lt;chr&gt; | num &lt;fct&gt; |\n",
       "|---|---|---|---|\n",
       "| 1 | 95  | 0 | 1 |\n",
       "| 2 | 115 | 0 | 1 |\n",
       "| 4 | 110 | 1 | 1 |\n",
       "| ⋮ | ⋮ | ⋮ | ⋮ |\n",
       "| 121 | 160 | 0 | 0 |\n",
       "| 122 | 160 | 0 | 1 |\n",
       "| 123 | 145 | 0 | 1 |\n",
       "\n"
      ],
      "text/plain": [
       "    patient_number trestbps exang num\n",
       "1   1              95       0     1  \n",
       "2   2              115      0     1  \n",
       "3   4              110      1     1  \n",
       "⋮   ⋮              ⋮        ⋮     ⋮  \n",
       "119 121            160      0     0  \n",
       "120 122            160      0     1  \n",
       "121 123            145      0     1  "
      ]
     },
     "metadata": {},
     "output_type": "display_data"
    }
   ],
   "source": [
    "# final dataframe \n",
    "final_data_1 <- changed_num_1\n",
    "\n",
    "final_data_1 <- final_data_1 |>\n",
    "    mutate(num = as_factor(num))\n",
    "final_data_1"
   ]
  },
  {
   "cell_type": "code",
   "execution_count": 53,
   "id": "dd8bbeed",
   "metadata": {},
   "outputs": [
    {
     "data": {
      "text/html": [
       "<table class=\"dataframe\">\n",
       "<caption>A tibble: 10 × 4</caption>\n",
       "<thead>\n",
       "\t<tr><th scope=col>patient_number</th><th scope=col>trestbps</th><th scope=col>exang</th><th scope=col>num</th></tr>\n",
       "\t<tr><th scope=col>&lt;int&gt;</th><th scope=col>&lt;chr&gt;</th><th scope=col>&lt;chr&gt;</th><th scope=col>&lt;fct&gt;</th></tr>\n",
       "</thead>\n",
       "<tbody>\n",
       "\t<tr><td>1</td><td>95 </td><td>0</td><td>1</td></tr>\n",
       "\t<tr><td>2</td><td>115</td><td>0</td><td>1</td></tr>\n",
       "\t<tr><td>4</td><td>110</td><td>1</td><td>1</td></tr>\n",
       "\t<tr><td>⋮</td><td>⋮</td><td>⋮</td><td>⋮</td></tr>\n",
       "\t<tr><td> 9</td><td>135</td><td>0</td><td>1</td></tr>\n",
       "\t<tr><td>10</td><td>150</td><td>1</td><td>1</td></tr>\n",
       "\t<tr><td>11</td><td>95 </td><td>0</td><td>1</td></tr>\n",
       "</tbody>\n",
       "</table>\n"
      ],
      "text/latex": [
       "A tibble: 10 × 4\n",
       "\\begin{tabular}{llll}\n",
       " patient\\_number & trestbps & exang & num\\\\\n",
       " <int> & <chr> & <chr> & <fct>\\\\\n",
       "\\hline\n",
       "\t 1 & 95  & 0 & 1\\\\\n",
       "\t 2 & 115 & 0 & 1\\\\\n",
       "\t 4 & 110 & 1 & 1\\\\\n",
       "\t ⋮ & ⋮ & ⋮ & ⋮\\\\\n",
       "\t  9 & 135 & 0 & 1\\\\\n",
       "\t 10 & 150 & 1 & 1\\\\\n",
       "\t 11 & 95  & 0 & 1\\\\\n",
       "\\end{tabular}\n"
      ],
      "text/markdown": [
       "\n",
       "A tibble: 10 × 4\n",
       "\n",
       "| patient_number &lt;int&gt; | trestbps &lt;chr&gt; | exang &lt;chr&gt; | num &lt;fct&gt; |\n",
       "|---|---|---|---|\n",
       "| 1 | 95  | 0 | 1 |\n",
       "| 2 | 115 | 0 | 1 |\n",
       "| 4 | 110 | 1 | 1 |\n",
       "| ⋮ | ⋮ | ⋮ | ⋮ |\n",
       "|  9 | 135 | 0 | 1 |\n",
       "| 10 | 150 | 1 | 1 |\n",
       "| 11 | 95  | 0 | 1 |\n",
       "\n"
      ],
      "text/plain": [
       "   patient_number trestbps exang num\n",
       "1  1              95       0     1  \n",
       "2  2              115      0     1  \n",
       "3  4              110      1     1  \n",
       "⋮  ⋮              ⋮        ⋮     ⋮  \n",
       "8   9             135      0     1  \n",
       "9  10             150      1     1  \n",
       "10 11             95       0     1  "
      ]
     },
     "metadata": {},
     "output_type": "display_data"
    }
   ],
   "source": [
    "# shows\n",
    "head(final_data_1,10)"
   ]
  },
  {
   "cell_type": "code",
   "execution_count": 54,
   "id": "4a4ab09b-577b-43ce-8f15-947f2700b9c2",
   "metadata": {},
   "outputs": [
    {
     "data": {
      "text/html": [
       "<table class=\"dataframe\">\n",
       "<caption>A tibble: 90 × 4</caption>\n",
       "<thead>\n",
       "\t<tr><th scope=col>patient_number</th><th scope=col>trestbps</th><th scope=col>exang</th><th scope=col>num</th></tr>\n",
       "\t<tr><th scope=col>&lt;int&gt;</th><th scope=col>&lt;chr&gt;</th><th scope=col>&lt;chr&gt;</th><th scope=col>&lt;fct&gt;</th></tr>\n",
       "</thead>\n",
       "<tbody>\n",
       "\t<tr><td>1</td><td>95 </td><td>0</td><td>1</td></tr>\n",
       "\t<tr><td>2</td><td>115</td><td>0</td><td>1</td></tr>\n",
       "\t<tr><td>4</td><td>110</td><td>1</td><td>1</td></tr>\n",
       "\t<tr><td>⋮</td><td>⋮</td><td>⋮</td><td>⋮</td></tr>\n",
       "\t<tr><td>119</td><td>115</td><td>1</td><td>1</td></tr>\n",
       "\t<tr><td>122</td><td>160</td><td>0</td><td>1</td></tr>\n",
       "\t<tr><td>123</td><td>145</td><td>0</td><td>1</td></tr>\n",
       "</tbody>\n",
       "</table>\n"
      ],
      "text/latex": [
       "A tibble: 90 × 4\n",
       "\\begin{tabular}{llll}\n",
       " patient\\_number & trestbps & exang & num\\\\\n",
       " <int> & <chr> & <chr> & <fct>\\\\\n",
       "\\hline\n",
       "\t 1 & 95  & 0 & 1\\\\\n",
       "\t 2 & 115 & 0 & 1\\\\\n",
       "\t 4 & 110 & 1 & 1\\\\\n",
       "\t ⋮ & ⋮ & ⋮ & ⋮\\\\\n",
       "\t 119 & 115 & 1 & 1\\\\\n",
       "\t 122 & 160 & 0 & 1\\\\\n",
       "\t 123 & 145 & 0 & 1\\\\\n",
       "\\end{tabular}\n"
      ],
      "text/markdown": [
       "\n",
       "A tibble: 90 × 4\n",
       "\n",
       "| patient_number &lt;int&gt; | trestbps &lt;chr&gt; | exang &lt;chr&gt; | num &lt;fct&gt; |\n",
       "|---|---|---|---|\n",
       "| 1 | 95  | 0 | 1 |\n",
       "| 2 | 115 | 0 | 1 |\n",
       "| 4 | 110 | 1 | 1 |\n",
       "| ⋮ | ⋮ | ⋮ | ⋮ |\n",
       "| 119 | 115 | 1 | 1 |\n",
       "| 122 | 160 | 0 | 1 |\n",
       "| 123 | 145 | 0 | 1 |\n",
       "\n"
      ],
      "text/plain": [
       "   patient_number trestbps exang num\n",
       "1  1              95       0     1  \n",
       "2  2              115      0     1  \n",
       "3  4              110      1     1  \n",
       "⋮  ⋮              ⋮        ⋮     ⋮  \n",
       "88 119            115      1     1  \n",
       "89 122            160      0     1  \n",
       "90 123            145      0     1  "
      ]
     },
     "metadata": {},
     "output_type": "display_data"
    },
    {
     "data": {
      "text/html": [
       "<table class=\"dataframe\">\n",
       "<caption>A tibble: 31 × 4</caption>\n",
       "<thead>\n",
       "\t<tr><th scope=col>patient_number</th><th scope=col>trestbps</th><th scope=col>exang</th><th scope=col>num</th></tr>\n",
       "\t<tr><th scope=col>&lt;int&gt;</th><th scope=col>&lt;chr&gt;</th><th scope=col>&lt;chr&gt;</th><th scope=col>&lt;fct&gt;</th></tr>\n",
       "</thead>\n",
       "<tbody>\n",
       "\t<tr><td> 6</td><td>110</td><td>0</td><td>1</td></tr>\n",
       "\t<tr><td>13</td><td>105</td><td>1</td><td>1</td></tr>\n",
       "\t<tr><td>14</td><td>145</td><td>1</td><td>1</td></tr>\n",
       "\t<tr><td>⋮</td><td>⋮</td><td>⋮</td><td>⋮</td></tr>\n",
       "\t<tr><td>114</td><td>145</td><td>0</td><td>1</td></tr>\n",
       "\t<tr><td>120</td><td>140</td><td>1</td><td>1</td></tr>\n",
       "\t<tr><td>121</td><td>160</td><td>0</td><td>0</td></tr>\n",
       "</tbody>\n",
       "</table>\n"
      ],
      "text/latex": [
       "A tibble: 31 × 4\n",
       "\\begin{tabular}{llll}\n",
       " patient\\_number & trestbps & exang & num\\\\\n",
       " <int> & <chr> & <chr> & <fct>\\\\\n",
       "\\hline\n",
       "\t  6 & 110 & 0 & 1\\\\\n",
       "\t 13 & 105 & 1 & 1\\\\\n",
       "\t 14 & 145 & 1 & 1\\\\\n",
       "\t ⋮ & ⋮ & ⋮ & ⋮\\\\\n",
       "\t 114 & 145 & 0 & 1\\\\\n",
       "\t 120 & 140 & 1 & 1\\\\\n",
       "\t 121 & 160 & 0 & 0\\\\\n",
       "\\end{tabular}\n"
      ],
      "text/markdown": [
       "\n",
       "A tibble: 31 × 4\n",
       "\n",
       "| patient_number &lt;int&gt; | trestbps &lt;chr&gt; | exang &lt;chr&gt; | num &lt;fct&gt; |\n",
       "|---|---|---|---|\n",
       "|  6 | 110 | 0 | 1 |\n",
       "| 13 | 105 | 1 | 1 |\n",
       "| 14 | 145 | 1 | 1 |\n",
       "| ⋮ | ⋮ | ⋮ | ⋮ |\n",
       "| 114 | 145 | 0 | 1 |\n",
       "| 120 | 140 | 1 | 1 |\n",
       "| 121 | 160 | 0 | 0 |\n",
       "\n"
      ],
      "text/plain": [
       "   patient_number trestbps exang num\n",
       "1   6             110      0     1  \n",
       "2  13             105      1     1  \n",
       "3  14             145      1     1  \n",
       "⋮  ⋮              ⋮        ⋮     ⋮  \n",
       "29 114            145      0     1  \n",
       "30 120            140      1     1  \n",
       "31 121            160      0     0  "
      ]
     },
     "metadata": {},
     "output_type": "display_data"
    }
   ],
   "source": [
    "set.seed(9999)\n",
    "\n",
    "heart_disease_split <- initial_split(final_data_1, prop = 0.75, strata = num)\n",
    "heart_disease_training <- training(heart_disease_split)\n",
    "heart_disease_testing <- testing(heart_disease_split)\n",
    "heart_disease_training\n",
    "heart_disease_testing"
   ]
  },
  {
   "cell_type": "code",
   "execution_count": 55,
   "id": "a1d8b696-a825-4868-a001-f6b89f3c9519",
   "metadata": {},
   "outputs": [
    {
     "data": {
      "text/html": [
       "<table class=\"dataframe\">\n",
       "<caption>A psych: 4 × 13</caption>\n",
       "<thead>\n",
       "\t<tr><th></th><th scope=col>vars</th><th scope=col>n</th><th scope=col>mean</th><th scope=col>sd</th><th scope=col>median</th><th scope=col>trimmed</th><th scope=col>mad</th><th scope=col>min</th><th scope=col>max</th><th scope=col>range</th><th scope=col>skew</th><th scope=col>kurtosis</th><th scope=col>se</th></tr>\n",
       "\t<tr><th></th><th scope=col>&lt;int&gt;</th><th scope=col>&lt;dbl&gt;</th><th scope=col>&lt;dbl&gt;</th><th scope=col>&lt;dbl&gt;</th><th scope=col>&lt;dbl&gt;</th><th scope=col>&lt;dbl&gt;</th><th scope=col>&lt;dbl&gt;</th><th scope=col>&lt;dbl&gt;</th><th scope=col>&lt;dbl&gt;</th><th scope=col>&lt;dbl&gt;</th><th scope=col>&lt;dbl&gt;</th><th scope=col>&lt;dbl&gt;</th><th scope=col>&lt;dbl&gt;</th></tr>\n",
       "</thead>\n",
       "<tbody>\n",
       "\t<tr><th scope=row>patient_number</th><td>1</td><td>90</td><td>58.911111</td><td>34.7296604</td><td>56.5</td><td>58.361111</td><td>40.7715</td><td>1</td><td>123</td><td>122</td><td> 0.1452813</td><td>-1.129056</td><td>3.66082764</td></tr>\n",
       "\t<tr><th scope=row>trestbps*</th><td>2</td><td>90</td><td> 8.177778</td><td> 4.7960137</td><td> 7.0</td><td> 7.736111</td><td> 4.4478</td><td>1</td><td> 19</td><td> 18</td><td> 0.6693535</td><td>-0.365074</td><td>0.50554424</td></tr>\n",
       "\t<tr><th scope=row>exang*</th><td>3</td><td>90</td><td> 1.433333</td><td> 0.4983118</td><td> 1.0</td><td> 1.416667</td><td> 0.0000</td><td>1</td><td>  2</td><td>  1</td><td> 0.2645971</td><td>-1.951300</td><td>0.05252667</td></tr>\n",
       "\t<tr><th scope=row>num*</th><td>4</td><td>90</td><td> 1.933333</td><td> 0.2508413</td><td> 2.0</td><td> 2.000000</td><td> 0.0000</td><td>1</td><td>  2</td><td>  1</td><td>-3.4166507</td><td> 9.782566</td><td>0.02644099</td></tr>\n",
       "</tbody>\n",
       "</table>\n"
      ],
      "text/latex": [
       "A psych: 4 × 13\n",
       "\\begin{tabular}{r|lllllllllllll}\n",
       "  & vars & n & mean & sd & median & trimmed & mad & min & max & range & skew & kurtosis & se\\\\\n",
       "  & <int> & <dbl> & <dbl> & <dbl> & <dbl> & <dbl> & <dbl> & <dbl> & <dbl> & <dbl> & <dbl> & <dbl> & <dbl>\\\\\n",
       "\\hline\n",
       "\tpatient\\_number & 1 & 90 & 58.911111 & 34.7296604 & 56.5 & 58.361111 & 40.7715 & 1 & 123 & 122 &  0.1452813 & -1.129056 & 3.66082764\\\\\n",
       "\ttrestbps* & 2 & 90 &  8.177778 &  4.7960137 &  7.0 &  7.736111 &  4.4478 & 1 &  19 &  18 &  0.6693535 & -0.365074 & 0.50554424\\\\\n",
       "\texang* & 3 & 90 &  1.433333 &  0.4983118 &  1.0 &  1.416667 &  0.0000 & 1 &   2 &   1 &  0.2645971 & -1.951300 & 0.05252667\\\\\n",
       "\tnum* & 4 & 90 &  1.933333 &  0.2508413 &  2.0 &  2.000000 &  0.0000 & 1 &   2 &   1 & -3.4166507 &  9.782566 & 0.02644099\\\\\n",
       "\\end{tabular}\n"
      ],
      "text/markdown": [
       "\n",
       "A psych: 4 × 13\n",
       "\n",
       "| <!--/--> | vars &lt;int&gt; | n &lt;dbl&gt; | mean &lt;dbl&gt; | sd &lt;dbl&gt; | median &lt;dbl&gt; | trimmed &lt;dbl&gt; | mad &lt;dbl&gt; | min &lt;dbl&gt; | max &lt;dbl&gt; | range &lt;dbl&gt; | skew &lt;dbl&gt; | kurtosis &lt;dbl&gt; | se &lt;dbl&gt; |\n",
       "|---|---|---|---|---|---|---|---|---|---|---|---|---|---|\n",
       "| patient_number | 1 | 90 | 58.911111 | 34.7296604 | 56.5 | 58.361111 | 40.7715 | 1 | 123 | 122 |  0.1452813 | -1.129056 | 3.66082764 |\n",
       "| trestbps* | 2 | 90 |  8.177778 |  4.7960137 |  7.0 |  7.736111 |  4.4478 | 1 |  19 |  18 |  0.6693535 | -0.365074 | 0.50554424 |\n",
       "| exang* | 3 | 90 |  1.433333 |  0.4983118 |  1.0 |  1.416667 |  0.0000 | 1 |   2 |   1 |  0.2645971 | -1.951300 | 0.05252667 |\n",
       "| num* | 4 | 90 |  1.933333 |  0.2508413 |  2.0 |  2.000000 |  0.0000 | 1 |   2 |   1 | -3.4166507 |  9.782566 | 0.02644099 |\n",
       "\n"
      ],
      "text/plain": [
       "               vars n  mean      sd         median trimmed   mad     min max\n",
       "patient_number 1    90 58.911111 34.7296604 56.5   58.361111 40.7715 1   123\n",
       "trestbps*      2    90  8.177778  4.7960137  7.0    7.736111  4.4478 1    19\n",
       "exang*         3    90  1.433333  0.4983118  1.0    1.416667  0.0000 1     2\n",
       "num*           4    90  1.933333  0.2508413  2.0    2.000000  0.0000 1     2\n",
       "               range skew       kurtosis  se        \n",
       "patient_number 122    0.1452813 -1.129056 3.66082764\n",
       "trestbps*       18    0.6693535 -0.365074 0.50554424\n",
       "exang*           1    0.2645971 -1.951300 0.05252667\n",
       "num*             1   -3.4166507  9.782566 0.02644099"
      ]
     },
     "metadata": {},
     "output_type": "display_data"
    }
   ],
   "source": [
    "describe(heart_disease_training)"
   ]
  },
  {
   "cell_type": "code",
   "execution_count": null,
   "id": "d7de578d-c6d3-4c91-82ad-f4a65dbfcdfb",
   "metadata": {},
   "outputs": [],
   "source": []
  },
  {
   "cell_type": "code",
   "execution_count": null,
   "id": "524ea9d1-463a-440e-8c16-8e3fa165f61c",
   "metadata": {},
   "outputs": [],
   "source": []
  }
 ],
 "metadata": {
  "kernelspec": {
   "display_name": "R",
   "language": "R",
   "name": "ir"
  },
  "language_info": {
   "codemirror_mode": "r",
   "file_extension": ".r",
   "mimetype": "text/x-r-source",
   "name": "R",
   "pygments_lexer": "r",
   "version": "4.1.3"
  }
 },
 "nbformat": 4,
 "nbformat_minor": 5
}
